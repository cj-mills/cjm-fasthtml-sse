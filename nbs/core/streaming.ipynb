{
 "cells": [
  {
   "cell_type": "markdown",
   "id": "0a3d0066",
   "metadata": {},
   "source": [
    "# Streaming\n",
    "\n",
    "> SSE streaming utilities and helpers"
   ]
  },
  {
   "cell_type": "code",
   "execution_count": null,
   "id": "b90d83dc",
   "metadata": {},
   "outputs": [],
   "source": [
    "#| default_exp core.streaming"
   ]
  },
  {
   "cell_type": "code",
   "execution_count": null,
   "id": "237cbdd5",
   "metadata": {},
   "outputs": [],
   "source": [
    "#| hide\n",
    "from nbdev.showdoc import *"
   ]
  },
  {
   "cell_type": "code",
   "execution_count": null,
   "id": "8c02debe",
   "metadata": {},
   "outputs": [],
   "source": [
    "#| export\n",
    "import asyncio\n",
    "import json\n",
    "from typing import AsyncGenerator, Callable, Optional, Any, Dict, List, Union\n",
    "from datetime import datetime\n",
    "from dataclasses import dataclass\n",
    "from fasthtml.common import EventStream, sse_message, Div, FT"
   ]
  },
  {
   "cell_type": "markdown",
   "id": "625f1e01",
   "metadata": {},
   "source": [
    "## Core Classes"
   ]
  },
  {
   "cell_type": "code",
   "execution_count": null,
   "id": "06dd2fdf",
   "metadata": {},
   "outputs": [],
   "source": [
    "#| export\n",
    "@dataclass\n",
    "class StreamConfig:\n",
    "    \"\"\"Configuration for SSE streaming\"\"\"\n",
    "    heartbeat_interval: float = 30.0\n",
    "    timeout: Optional[float] = None\n",
    "    send_initial_message: bool = True\n",
    "    initial_message: str = \"Connected\"\n",
    "    send_close_message: bool = True\n",
    "    close_message: str = \"Connection closed\"\n",
    "    debug: bool = False"
   ]
  },
  {
   "cell_type": "markdown",
   "id": "50tezx6qbf5",
   "metadata": {},
   "source": [
    "### Tests for StreamConfig"
   ]
  },
  {
   "cell_type": "code",
   "execution_count": null,
   "id": "21o4h3nxyuo",
   "metadata": {},
   "outputs": [
    {
     "name": "stdout",
     "output_type": "stream",
     "text": [
      "✓ StreamConfig tests passed\n"
     ]
    }
   ],
   "source": [
    "#| test\n",
    "# Test StreamConfig creation and defaults\n",
    "config = StreamConfig()\n",
    "\n",
    "# Test default values\n",
    "assert config.heartbeat_interval == 30.0\n",
    "assert config.timeout is None\n",
    "assert config.send_initial_message == True\n",
    "assert config.initial_message == \"Connected\"\n",
    "assert config.send_close_message == True\n",
    "assert config.close_message == \"Connection closed\"\n",
    "assert config.debug == False\n",
    "\n",
    "# Test custom configuration\n",
    "custom_config = StreamConfig(\n",
    "    heartbeat_interval=15.0,\n",
    "    timeout=60.0,\n",
    "    send_initial_message=False,\n",
    "    initial_message=\"Started\",\n",
    "    send_close_message=False,\n",
    "    close_message=\"Ended\",\n",
    "    debug=True\n",
    ")\n",
    "\n",
    "assert custom_config.heartbeat_interval == 15.0\n",
    "assert custom_config.timeout == 60.0\n",
    "assert custom_config.send_initial_message == False\n",
    "assert custom_config.initial_message == \"Started\"\n",
    "assert custom_config.send_close_message == False\n",
    "assert custom_config.close_message == \"Ended\"\n",
    "assert custom_config.debug == True\n",
    "\n",
    "print(\"✓ StreamConfig tests passed\")"
   ]
  },
  {
   "cell_type": "code",
   "execution_count": null,
   "id": "a7a7feaa",
   "metadata": {},
   "outputs": [],
   "source": [
    "#| export\n",
    "class SSEStream:\n",
    "    \"\"\"Generic SSE stream handler\"\"\"\n",
    "    \n",
    "    def __init__(\n",
    "        self,\n",
    "        config: Optional[StreamConfig] = None  # Stream configuration\n",
    "    ):\n",
    "        \"\"\"Initialize the SSE stream.\"\"\"\n",
    "        self.config = config or StreamConfig()\n",
    "        self._active = False\n",
    "        self._message_count = 0\n",
    "    \n",
    "    async def stream(self,\n",
    "                    data_source: Union[AsyncGenerator, Callable], # Async generator or callable that produces data\n",
    "                    transform_fn: Optional[Callable] = None # Optional function to transform data before sending\n",
    "                    ) -> AsyncGenerator[str, None]: # SSE formatted strings\n",
    "        \"\"\"Stream data from a source through SSE.\"\"\"\n",
    "        self._active = True\n",
    "        \n",
    "        try:\n",
    "            # Send initial message\n",
    "            if self.config.send_initial_message:\n",
    "                yield f\": {self.config.initial_message}\\n\\n\"\n",
    "            \n",
    "            # Create async generator from callable if needed\n",
    "            if callable(data_source) and not hasattr(data_source, '__anext__'):\n",
    "                data_source = data_source()\n",
    "            \n",
    "            # Main streaming loop\n",
    "            while self._active:\n",
    "                try:\n",
    "                    # Get data with heartbeat timeout\n",
    "                    data = await asyncio.wait_for(\n",
    "                        data_source.__anext__(),\n",
    "                        timeout=self.config.heartbeat_interval\n",
    "                    )\n",
    "                    \n",
    "                    # Transform data if function provided\n",
    "                    if transform_fn:\n",
    "                        data = await transform_fn(data) if asyncio.iscoroutinefunction(transform_fn) else transform_fn(data)\n",
    "                    \n",
    "                    # Send data\n",
    "                    if data is not None:\n",
    "                        self._message_count += 1\n",
    "                        yield self._format_message(data)\n",
    "                    \n",
    "                except asyncio.TimeoutError:\n",
    "                    # Send heartbeat\n",
    "                    yield f\": heartbeat {datetime.now().isoformat()}\\n\\n\"\n",
    "                    \n",
    "                except StopAsyncIteration:\n",
    "                    # Data source exhausted\n",
    "                    break\n",
    "                    \n",
    "        except Exception as e:\n",
    "            if self.config.debug:\n",
    "                yield f\": error {str(e)}\\n\\n\"\n",
    "            raise\n",
    "            \n",
    "        finally:\n",
    "            self._active = False\n",
    "            if self.config.send_close_message:\n",
    "                yield f\": {self.config.close_message}\\n\\n\"\n",
    "    \n",
    "    def _format_message(\n",
    "        self,\n",
    "        data: Any  # Data to format\n",
    "    ) -> str:  # SSE formatted string\n",
    "        \"\"\"Format data as SSE message.\"\"\"\n",
    "        if isinstance(data, str):\n",
    "            return f\"data: {data}\\n\\n\"\n",
    "        elif isinstance(data, dict):\n",
    "            return f\"data: {json.dumps(data)}\\n\\n\"\n",
    "        elif hasattr(data, '__html__'):\n",
    "            # FastHTML element\n",
    "            return sse_message(data)\n",
    "        else:\n",
    "            # Try to convert to JSON\n",
    "            try:\n",
    "                return f\"data: {json.dumps(data)}\\n\\n\"\n",
    "            except (TypeError, ValueError):\n",
    "                return f\"data: {str(data)}\\n\\n\"\n",
    "    \n",
    "    def stop(self):\n",
    "        \"\"\"Stop the stream.\"\"\"\n",
    "        self._active = False"
   ]
  },
  {
   "cell_type": "markdown",
   "id": "6by8odyirf",
   "metadata": {},
   "source": [
    "### Tests for SSEStream"
   ]
  },
  {
   "cell_type": "code",
   "execution_count": null,
   "id": "ttwzs4ws599",
   "metadata": {},
   "outputs": [
    {
     "name": "stdout",
     "output_type": "stream",
     "text": [
      "✓ SSEStream initialization tests passed\n"
     ]
    }
   ],
   "source": [
    "#| test\n",
    "# Test SSEStream initialization\n",
    "stream = SSEStream()\n",
    "assert stream.config.heartbeat_interval == 30.0\n",
    "assert stream._active == False\n",
    "assert stream._message_count == 0\n",
    "\n",
    "# Test with custom config\n",
    "custom_config = StreamConfig(heartbeat_interval=10.0, debug=True)\n",
    "stream_custom = SSEStream(config=custom_config)\n",
    "assert stream_custom.config.heartbeat_interval == 10.0\n",
    "assert stream_custom.config.debug == True\n",
    "\n",
    "print(\"✓ SSEStream initialization tests passed\")"
   ]
  },
  {
   "cell_type": "code",
   "execution_count": null,
   "id": "xv53f4uy8he",
   "metadata": {},
   "outputs": [
    {
     "name": "stdout",
     "output_type": "stream",
     "text": [
      "✓ SSEStream streaming tests passed\n"
     ]
    }
   ],
   "source": [
    "#| test\n",
    "# Test SSEStream streaming functionality\n",
    "import asyncio\n",
    "\n",
    "async def test_sse_stream():\n",
    "    # Create a simple async generator\n",
    "    async def data_generator():\n",
    "        for i in range(3):\n",
    "            yield f\"message_{i}\"\n",
    "            await asyncio.sleep(0.01)\n",
    "    \n",
    "    # Test basic streaming\n",
    "    config = StreamConfig(\n",
    "        heartbeat_interval=5.0,\n",
    "        send_initial_message=True,\n",
    "        send_close_message=True\n",
    "    )\n",
    "    stream = SSEStream(config)\n",
    "    \n",
    "    messages = []\n",
    "    async for msg in stream.stream(data_generator()):\n",
    "        messages.append(msg)\n",
    "    \n",
    "    # Check messages\n",
    "    assert len(messages) >= 5  # Initial + 3 data + close\n",
    "    assert \"Connected\" in messages[0]\n",
    "    assert \"data: message_0\" in messages[1]\n",
    "    assert \"data: message_1\" in messages[2]\n",
    "    assert \"data: message_2\" in messages[3]\n",
    "    assert \"Connection closed\" in messages[-1]\n",
    "    assert stream._message_count == 3\n",
    "    \n",
    "    print(\"✓ SSEStream streaming tests passed\")\n",
    "\n",
    "await test_sse_stream()"
   ]
  },
  {
   "cell_type": "code",
   "execution_count": null,
   "id": "4qh5qkjq9dv",
   "metadata": {},
   "outputs": [
    {
     "name": "stdout",
     "output_type": "stream",
     "text": [
      "✓ SSEStream transform tests passed\n"
     ]
    }
   ],
   "source": [
    "#| test\n",
    "# Test SSEStream with transform function\n",
    "async def test_sse_stream_transform():\n",
    "    # Create data generator\n",
    "    async def data_generator():\n",
    "        for i in range(2):\n",
    "            yield i\n",
    "    \n",
    "    # Define transform function\n",
    "    def transform(x):\n",
    "        return {\"value\": x * 2, \"original\": x}\n",
    "    \n",
    "    config = StreamConfig(\n",
    "        send_initial_message=False,\n",
    "        send_close_message=False\n",
    "    )\n",
    "    stream = SSEStream(config)\n",
    "    \n",
    "    messages = []\n",
    "    async for msg in stream.stream(data_generator(), transform):\n",
    "        messages.append(msg)\n",
    "    \n",
    "    # Check transformed messages\n",
    "    assert len(messages) == 2\n",
    "    # Messages should be formatted as SSE with the transformed dict data\n",
    "    assert \"value\" in str(messages[0])\n",
    "    assert \"original\" in str(messages[0])\n",
    "    \n",
    "    print(\"✓ SSEStream transform tests passed\")\n",
    "\n",
    "await test_sse_stream_transform()"
   ]
  },
  {
   "cell_type": "code",
   "execution_count": null,
   "id": "73nozzwsa4i",
   "metadata": {},
   "outputs": [
    {
     "name": "stdout",
     "output_type": "stream",
     "text": [
      "✓ SSEStream stop tests passed\n"
     ]
    }
   ],
   "source": [
    "#| test\n",
    "# Test SSEStream stop functionality\n",
    "async def test_sse_stream_stop():\n",
    "    stream = SSEStream()\n",
    "    assert stream._active == False\n",
    "    \n",
    "    # The stop method should set _active to False\n",
    "    stream._active = True\n",
    "    stream.stop()\n",
    "    assert stream._active == False\n",
    "    \n",
    "    print(\"✓ SSEStream stop tests passed\")\n",
    "\n",
    "await test_sse_stream_stop()"
   ]
  },
  {
   "cell_type": "code",
   "execution_count": null,
   "id": "1915fda1",
   "metadata": {},
   "outputs": [],
   "source": [
    "#| export\n",
    "class OOBStreamBuilder:\n",
    "    \"\"\"Build SSE messages with OOB (Out-of-Band) swaps\"\"\"\n",
    "    \n",
    "    def __init__(self):\n",
    "        \"\"\"Initialize the OOB stream builder.\"\"\"\n",
    "        self.elements: List[Any] = []\n",
    "    \n",
    "    def add_element(self,\n",
    "                   element: Any,  # The element to add\n",
    "                   target_id: Optional[str] = None,  # Target element ID for OOB swap\n",
    "                   swap_mode: str = \"innerHTML\",  # Swap mode (innerHTML, outerHTML, beforeend, afterbegin, etc.)\n",
    "                   wrap: bool = True  # If True and target_id is provided, wrap content in a Div with OOB attributes. If False, add OOB attributes directly to the element\n",
    "                   ) -> 'OOBStreamBuilder':  # Self for chaining\n",
    "        \"\"\"Add an element with OOB swap configuration.\"\"\"\n",
    "        if target_id:\n",
    "            if wrap and swap_mode == \"innerHTML\":\n",
    "                # For innerHTML swaps, wrap the content in a container with the target ID\n",
    "                # This is the most common case for replacing content\n",
    "                wrapper = Div(element, id=target_id, hx_swap_oob=\"innerHTML\")\n",
    "                self.elements.append(wrapper)\n",
    "            elif wrap and swap_mode != \"outerHTML\":\n",
    "                # For other swap modes (beforeend, afterbegin, etc.), also wrap\n",
    "                wrapper = Div(element, id=target_id, hx_swap_oob=swap_mode)\n",
    "                self.elements.append(wrapper)\n",
    "            else:\n",
    "                # For outerHTML swaps or when wrap=False, add attributes directly to element\n",
    "                if hasattr(element, 'attrs'):\n",
    "                    # Only set ID if element doesn't already have one or if it matches target_id\n",
    "                    if not element.attrs.get('id') or element.attrs.get('id') == target_id:\n",
    "                        element.attrs['id'] = target_id\n",
    "                    element.attrs['hx-swap-oob'] = swap_mode if swap_mode != \"innerHTML\" else \"true\"\n",
    "                elif isinstance(element, dict):\n",
    "                    if not element.get('id') or element.get('id') == target_id:\n",
    "                        element['id'] = target_id\n",
    "                    element['hx-swap-oob'] = swap_mode if swap_mode != \"innerHTML\" else \"true\"\n",
    "                self.elements.append(element)\n",
    "        else:\n",
    "            # No target_id, just add the element as-is\n",
    "            self.elements.append(element)\n",
    "        \n",
    "        return self\n",
    "    \n",
    "    def add_elements(\n",
    "        self,\n",
    "        elements: List[tuple]  # List of tuples: (element, target_id, swap_mode, wrap) or (element, target_id, swap_mode) or (element, target_id) or (element,)\n",
    "    ) -> 'OOBStreamBuilder':  # Self for chaining\n",
    "        \"\"\"Add multiple elements with OOB configurations.\"\"\"\n",
    "        for item in elements:\n",
    "            if len(item) == 4:\n",
    "                element, target_id, swap_mode, wrap = item\n",
    "            elif len(item) == 3:\n",
    "                element, target_id, swap_mode = item\n",
    "                wrap = True  # Default to wrapping\n",
    "            elif len(item) == 2:\n",
    "                element, target_id = item\n",
    "                swap_mode = \"innerHTML\"\n",
    "                wrap = True\n",
    "            else:\n",
    "                element = item[0] if isinstance(item, tuple) else item\n",
    "                target_id = None\n",
    "                swap_mode = \"innerHTML\"\n",
    "                wrap = True\n",
    "            \n",
    "            self.add_element(element, target_id, swap_mode, wrap)\n",
    "        \n",
    "        return self\n",
    "    \n",
    "    def build(\n",
    "        self\n",
    "    ) -> FT:  # Div with all elements\n",
    "        \"\"\"Build the Div element with all elements.\"\"\"\n",
    "        if not self.elements:\n",
    "            return \"\"\n",
    "        \n",
    "        if len(self.elements) == 1:\n",
    "            return sse_message(self.elements[0])\n",
    "        \n",
    "        # Wrap multiple elements in a container\n",
    "        return Div(*self.elements)\n",
    "    \n",
    "    def clear(\n",
    "        self\n",
    "    ) -> 'OOBStreamBuilder':  # Self for chaining\n",
    "        \"\"\"Clear all elements.\"\"\"\n",
    "        self.elements = []\n",
    "        return self"
   ]
  },
  {
   "cell_type": "markdown",
   "id": "35j89ojqvus",
   "metadata": {},
   "source": [
    "### Tests for OOBStreamBuilder"
   ]
  },
  {
   "cell_type": "code",
   "execution_count": null,
   "id": "7c3o0604jy",
   "metadata": {},
   "outputs": [
    {
     "name": "stdout",
     "output_type": "stream",
     "text": [
      "✓ OOBStreamBuilder initialization tests passed\n"
     ]
    }
   ],
   "source": [
    "#| test\n",
    "# Test OOBStreamBuilder initialization and basic operations\n",
    "builder = OOBStreamBuilder()\n",
    "assert builder.elements == []\n",
    "\n",
    "# Test add_element without target\n",
    "builder.add_element(\"Hello World\")\n",
    "assert len(builder.elements) == 1\n",
    "assert builder.elements[0] == \"Hello World\"\n",
    "\n",
    "# Test clear\n",
    "builder.clear()\n",
    "assert len(builder.elements) == 0\n",
    "\n",
    "print(\"✓ OOBStreamBuilder initialization tests passed\")"
   ]
  },
  {
   "cell_type": "code",
   "execution_count": null,
   "id": "ir5xax936tq",
   "metadata": {},
   "outputs": [
    {
     "name": "stdout",
     "output_type": "stream",
     "text": [
      "✓ OOBStreamBuilder target_id tests passed\n"
     ]
    }
   ],
   "source": [
    "#| test\n",
    "# Test OOBStreamBuilder with target_id and swap modes\n",
    "from fasthtml.common import Div, P, Span\n",
    "\n",
    "builder = OOBStreamBuilder()\n",
    "\n",
    "# Test add_element with target_id and default swap mode (innerHTML)\n",
    "content = P(\"Paragraph content\")\n",
    "builder.add_element(content, target_id=\"target1\")\n",
    "assert len(builder.elements) == 1\n",
    "wrapper = builder.elements[0]\n",
    "assert isinstance(wrapper, FT)\n",
    "assert wrapper.attrs.get('id') == \"target1\"\n",
    "assert wrapper.attrs.get('hx-swap-oob') == \"innerHTML\"\n",
    "\n",
    "# Test with different swap mode\n",
    "builder.clear()\n",
    "builder.add_element(Span(\"Span content\"), target_id=\"target2\", swap_mode=\"beforeend\")\n",
    "assert len(builder.elements) == 1\n",
    "wrapper = builder.elements[0]\n",
    "assert wrapper.attrs.get('id') == \"target2\"\n",
    "assert wrapper.attrs.get('hx-swap-oob') == \"beforeend\"\n",
    "\n",
    "# Test with outerHTML swap mode (should not wrap)\n",
    "builder.clear()\n",
    "element = Div(\"Direct element\", id=\"existing_id\")\n",
    "builder.add_element(element, target_id=\"existing_id\", swap_mode=\"outerHTML\", wrap=False)\n",
    "assert len(builder.elements) == 1\n",
    "assert builder.elements[0].attrs.get('id') == \"existing_id\"\n",
    "assert builder.elements[0].attrs.get('hx-swap-oob') == \"outerHTML\"\n",
    "\n",
    "print(\"✓ OOBStreamBuilder target_id tests passed\")"
   ]
  },
  {
   "cell_type": "code",
   "execution_count": null,
   "id": "cb78xzn7ozi",
   "metadata": {},
   "outputs": [
    {
     "name": "stdout",
     "output_type": "stream",
     "text": [
      "✓ OOBStreamBuilder add_elements tests passed\n"
     ]
    }
   ],
   "source": [
    "#| test\n",
    "# Test OOBStreamBuilder add_elements\n",
    "from fasthtml.common import Div, P, Span\n",
    "\n",
    "builder = OOBStreamBuilder()\n",
    "\n",
    "# Test add_elements with various tuple formats\n",
    "elements_to_add = [\n",
    "    (P(\"Element 1\"), \"id1\", \"innerHTML\", True),\n",
    "    (P(\"Element 2\"), \"id2\", \"beforeend\"),\n",
    "    (P(\"Element 3\"), \"id3\"),\n",
    "    (P(\"Element 4\"),)\n",
    "]\n",
    "\n",
    "builder.add_elements(elements_to_add)\n",
    "assert len(builder.elements) == 4\n",
    "\n",
    "# Check first element (4-tuple)\n",
    "assert builder.elements[0].attrs.get('id') == \"id1\"\n",
    "assert builder.elements[0].attrs.get('hx-swap-oob') == \"innerHTML\"\n",
    "\n",
    "# Check second element (3-tuple)\n",
    "assert builder.elements[1].attrs.get('id') == \"id2\"\n",
    "assert builder.elements[1].attrs.get('hx-swap-oob') == \"beforeend\"\n",
    "\n",
    "# Check third element (2-tuple)\n",
    "assert builder.elements[2].attrs.get('id') == \"id3\"\n",
    "\n",
    "# Check fourth element (single element)\n",
    "# Should be added as-is without wrapping\n",
    "assert isinstance(builder.elements[3], FT)\n",
    "\n",
    "print(\"✓ OOBStreamBuilder add_elements tests passed\")"
   ]
  },
  {
   "cell_type": "code",
   "execution_count": null,
   "id": "e126dyhb72d",
   "metadata": {},
   "outputs": [
    {
     "name": "stdout",
     "output_type": "stream",
     "text": [
      "✓ OOBStreamBuilder build tests passed\n"
     ]
    }
   ],
   "source": [
    "#| test\n",
    "# Test OOBStreamBuilder build method\n",
    "from fasthtml.common import Div, P\n",
    "\n",
    "builder = OOBStreamBuilder()\n",
    "\n",
    "# Test build with no elements\n",
    "result = builder.build()\n",
    "assert result == \"\"\n",
    "\n",
    "# Test build with single element\n",
    "builder.add_element(P(\"Single\"))\n",
    "result = builder.build()\n",
    "# Single element should be wrapped in sse_message\n",
    "assert result is not None\n",
    "\n",
    "# Test build with multiple elements\n",
    "builder.clear()\n",
    "builder.add_element(P(\"First\"))\n",
    "builder.add_element(P(\"Second\"))\n",
    "result = builder.build()\n",
    "assert isinstance(result, FT)\n",
    "assert len(result.children) == 2\n",
    "\n",
    "# Test method chaining\n",
    "builder2 = OOBStreamBuilder()\n",
    "result = (builder2\n",
    "    .add_element(P(\"One\"))\n",
    "    .add_element(P(\"Two\"))\n",
    "    .clear()\n",
    "    .add_element(P(\"Three\")))\n",
    "assert len(builder2.elements) == 1\n",
    "\n",
    "print(\"✓ OOBStreamBuilder build tests passed\")"
   ]
  },
  {
   "cell_type": "code",
   "execution_count": null,
   "id": "ec5ceba9-3f5c-4a1a-bd5f-f1a755f68dec",
   "metadata": {},
   "outputs": [],
   "source": []
  },
  {
   "cell_type": "code",
   "execution_count": null,
   "id": "5a7296fa-51b0-400a-8990-717e13129dfd",
   "metadata": {},
   "outputs": [],
   "source": []
  },
  {
   "cell_type": "code",
   "execution_count": null,
   "id": "69056999-2164-45b9-a798-024c7cf0033c",
   "metadata": {},
   "outputs": [],
   "source": []
  },
  {
   "cell_type": "code",
   "execution_count": null,
   "id": "abe8de52-395f-49bb-bcc9-a0344e2d0b5f",
   "metadata": {},
   "outputs": [],
   "source": []
  },
  {
   "cell_type": "code",
   "execution_count": null,
   "id": "9dd986c5-8569-41d0-8d89-a13105c3c395",
   "metadata": {},
   "outputs": [],
   "source": []
  },
  {
   "cell_type": "code",
   "execution_count": null,
   "id": "dd8fd7b8-df9d-4980-82a3-94dec14bcae1",
   "metadata": {},
   "outputs": [],
   "source": []
  },
  {
   "cell_type": "markdown",
   "id": "27457dcd",
   "metadata": {},
   "source": [
    "## Export"
   ]
  },
  {
   "cell_type": "code",
   "execution_count": null,
   "id": "0cdc7a98",
   "metadata": {},
   "outputs": [],
   "source": [
    "#| hide\n",
    "import nbdev; nbdev.nbdev_export()"
   ]
  }
 ],
 "metadata": {
  "kernelspec": {
   "display_name": "python3",
   "language": "python",
   "name": "python3"
  }
 },
 "nbformat": 4,
 "nbformat_minor": 5
}
