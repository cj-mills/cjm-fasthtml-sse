{
 "cells": [
  {
   "cell_type": "markdown",
   "id": "ef32554e",
   "metadata": {},
   "source": [
    "# streaming\n",
    "\n",
    "> SSE streaming utilities for creating and managing Server-Sent Events streams"
   ]
  },
  {
   "cell_type": "code",
   "execution_count": null,
   "id": "ecad2f1f",
   "metadata": {},
   "outputs": [],
   "source": [
    "#| default_exp core.streaming"
   ]
  },
  {
   "cell_type": "code",
   "execution_count": null,
   "id": "b03d431a",
   "metadata": {},
   "outputs": [],
   "source": [
    "#| hide\n",
    "from nbdev.showdoc import *"
   ]
  },
  {
   "cell_type": "code",
   "execution_count": null,
   "id": "b49ebfde",
   "metadata": {},
   "outputs": [],
   "source": [
    "#| export\n",
    "import asyncio\n",
    "import json\n",
    "from typing import Optional, Dict, Any, AsyncIterator, Union, List, Callable\n",
    "from datetime import datetime\n",
    "from dataclasses import dataclass\n",
    "\n",
    "from fasthtml.common import sse_message, FT\n",
    "\n",
    "# Import broadcast components\n",
    "from cjm_fasthtml_sse.core.broadcast import (\n",
    "    SSEBroadcastManager, \n",
    "    BroadcastMessage,\n",
    "    SSEConnection\n",
    ")"
   ]
  },
  {
   "cell_type": "markdown",
   "id": "f4ce42c8",
   "metadata": {},
   "source": [
    "## SSE Message Formatting"
   ]
  },
  {
   "cell_type": "code",
   "execution_count": null,
   "id": "03e4f2e6",
   "metadata": {},
   "outputs": [],
   "source": [
    "#| export\n",
    "def format_sse_message(\n",
    "    data: Union[str, Dict[str, Any], Any],\n",
    "    event: Optional[str] = 'message',  # Optional event type\n",
    "    id: Optional[str] = None,  # Optional event ID\n",
    "    retry: Optional[int] = None  # Optional retry interval in milliseconds\n",
    ") -> str:  # Formatted SSE message string\n",
    "    \"Format data as a Server-Sent Event message.\"\n",
    "\n",
    "    if isinstance(data, FT):\n",
    "        return sse_message(data, event=event)\n",
    "    \n",
    "    lines = []\n",
    "    \n",
    "    if event:\n",
    "        lines.append(f\"event: {event}\")\n",
    "    \n",
    "    if id:\n",
    "        lines.append(f\"id: {id}\")\n",
    "    \n",
    "    if retry is not None:\n",
    "        lines.append(f\"retry: {retry}\")\n",
    "    \n",
    "    # Convert data to string if necessary\n",
    "    if isinstance(data, str):\n",
    "        data_str = data\n",
    "    else:\n",
    "        try:\n",
    "            data_str = json.dumps(data)\n",
    "        except (TypeError, ValueError):\n",
    "            data_str = str(data)\n",
    "    \n",
    "    # Handle multi-line data\n",
    "    for line in data_str.split('\\n'):\n",
    "        lines.append(f\"data: {line}\")\n",
    "    \n",
    "    # SSE messages end with double newline\n",
    "    return '\\n'.join(lines) + '\\n\\n'"
   ]
  },
  {
   "cell_type": "code",
   "execution_count": null,
   "id": "0be7fbea",
   "metadata": {},
   "outputs": [],
   "source": [
    "#| export\n",
    "def format_sse_comment(\n",
    "    comment: str  # Comment text\n",
    ") -> str:  # Formatted SSE comment\n",
    "    \"Format a comment for SSE (typically used for heartbeats).\"\n",
    "\n",
    "    if isinstance(comment, FT):\n",
    "        return sse_message(comment)\n",
    "    \n",
    "    return f\": {comment}\\n\\n\""
   ]
  },
  {
   "cell_type": "markdown",
   "id": "79c5db02",
   "metadata": {},
   "source": [
    "## SSE Stream Generator"
   ]
  },
  {
   "cell_type": "code",
   "execution_count": null,
   "id": "0f5d8af5",
   "metadata": {},
   "outputs": [],
   "source": [
    "#| export\n",
    "@dataclass\n",
    "class SSEStreamConfig:\n",
    "    \"\"\"\n",
    "    Configuration for SSE streams.\n",
    "    \"\"\"\n",
    "    heartbeat_interval: Optional[float] = 30.0 # Seconds between heartbeat messages (None to disable)\n",
    "    reconnect_time: Optional[int] = 3000 # Suggested reconnect time for clients in milliseconds\n",
    "    timeout: Optional[float] = None # Maximum time to wait for messages before closing stream\n",
    "    initial_event: Optional[Dict[str, Any]] = None # Event to send when stream starts\n",
    "    closing_event: Optional[Dict[str, Any]] = None # Event to send when stream closes\n",
    "    debug: bool = False # Enable debug logging"
   ]
  },
  {
   "cell_type": "code",
   "execution_count": null,
   "id": "de8965d1",
   "metadata": {},
   "outputs": [],
   "source": [
    "#| export\n",
    "async def sse_broadcast_stream(\n",
    "    manager: SSEBroadcastManager,  # The SSEBroadcastManager to connect to\n",
    "    client_metadata: Optional[Dict[str, Any]] = None,\n",
    "    config: Optional[SSEStreamConfig] = None,  # Optional stream configuration\n",
    "    message_filter: Optional[Callable[[BroadcastMessage], bool]] = None\n",
    ") -> AsyncIterator[str]:  # Async iterator yielding formatted SSE messages\n",
    "    \"\"\"Create an SSE stream that receives messages from a broadcast manager. This is the main function for creating SSE endpoints that receive broadcast messages and format them for SSE delivery.\"\"\"\n",
    "    config = config or SSEStreamConfig()\n",
    "    \n",
    "    def log(\n",
    "        msg: str  # Message to log if debug is enabled\n",
    "    ):\n",
    "        \"\"\"Internal debug logging function\"\"\"\n",
    "        if config.debug:\n",
    "            print(f\"[SSE Stream] {msg}\")\n",
    "    \n",
    "    # Use connection context manager\n",
    "    async with SSEConnection(manager, metadata=client_metadata) as queue:\n",
    "        log(f\"Client connected (active: {manager.get_connection_count()})\")\n",
    "        \n",
    "        try:\n",
    "            # Send initial event if configured\n",
    "            if config.initial_event:\n",
    "                yield format_sse_message(\n",
    "                    config.initial_event,\n",
    "                    event=\"connect\"\n",
    "                )\n",
    "            \n",
    "            # Send suggested reconnect time\n",
    "            if config.reconnect_time:\n",
    "                yield format_sse_message(\n",
    "                    {\"status\": \"connected\"},\n",
    "                    retry=config.reconnect_time\n",
    "                )\n",
    "            \n",
    "            # Main message loop\n",
    "            while True:\n",
    "                try:\n",
    "                    # Wait for message with heartbeat timeout\n",
    "                    timeout = config.heartbeat_interval or config.timeout\n",
    "                    \n",
    "                    message = await asyncio.wait_for(\n",
    "                        queue.get(),\n",
    "                        timeout=timeout\n",
    "                    )\n",
    "                    \n",
    "                    # Apply filter if provided\n",
    "                    if message_filter and not message_filter(message):\n",
    "                        continue\n",
    "                    \n",
    "                    # Format and yield the message\n",
    "                    yield format_sse_message(\n",
    "                        message.to_dict(),\n",
    "                        event=message.type\n",
    "                    )\n",
    "                    \n",
    "                except asyncio.TimeoutError:\n",
    "                    if config.heartbeat_interval:\n",
    "                        # Send heartbeat\n",
    "                        yield format_sse_comment(\n",
    "                            f\"heartbeat {datetime.now().isoformat()}\"\n",
    "                        )\n",
    "                    elif config.timeout:\n",
    "                        # Timeout reached, close stream\n",
    "                        log(\"Stream timeout reached\")\n",
    "                        break\n",
    "                        \n",
    "        except asyncio.CancelledError:\n",
    "            log(\"Stream cancelled\")\n",
    "            raise\n",
    "        except Exception as e:\n",
    "            log(f\"Stream error: {e}\")\n",
    "            raise\n",
    "        finally:\n",
    "            # Send closing event if configured\n",
    "            if config.closing_event:\n",
    "                yield format_sse_message(\n",
    "                    config.closing_event,\n",
    "                    event=\"close\"\n",
    "                )\n",
    "            log(f\"Client disconnected (active: {manager.get_connection_count() - 1})\")"
   ]
  },
  {
   "cell_type": "markdown",
   "id": "97c7d3b9",
   "metadata": {},
   "source": [
    "## Direct SSE Stream Utilities"
   ]
  },
  {
   "cell_type": "code",
   "execution_count": null,
   "id": "6afa8a25",
   "metadata": {},
   "outputs": [],
   "source": [
    "#| export\n",
    "async def sse_generator(\n",
    "    data_source: Union[AsyncIterator, Callable],\n",
    "    interval: float = 1.0,  # Seconds between data checks (if using callable)\n",
    "    event_type: Optional[str] = None,  # Optional event type for all messages\n",
    "    heartbeat: Optional[float] = 30.0  # Heartbeat interval in seconds (None to disable)\n",
    ") -> AsyncIterator[str]:  # Async iterator yielding formatted SSE messages\n",
    "    \"\"\"Create an SSE stream from a data source. This is useful for creating SSE streams from custom data sources without using the broadcast manager.\"\"\"\n",
    "    last_heartbeat = datetime.now().timestamp()\n",
    "    \n",
    "    try:\n",
    "        # Handle async iterator\n",
    "        if hasattr(data_source, '__aiter__'):\n",
    "            async for data in data_source:\n",
    "                yield format_sse_message(data, event=event_type)\n",
    "                \n",
    "                # Check for heartbeat\n",
    "                if heartbeat:\n",
    "                    now = datetime.now().timestamp()\n",
    "                    if now - last_heartbeat > heartbeat:\n",
    "                        yield format_sse_comment(f\"heartbeat {datetime.now().isoformat()}\")\n",
    "                        last_heartbeat = now\n",
    "        \n",
    "        # Handle callable\n",
    "        elif callable(data_source):\n",
    "            while True:\n",
    "                # Get data from callable\n",
    "                if asyncio.iscoroutinefunction(data_source):\n",
    "                    data = await data_source()\n",
    "                else:\n",
    "                    data = data_source()\n",
    "                \n",
    "                # Send data if available\n",
    "                if data is not None:\n",
    "                    yield format_sse_message(data, event=event_type)\n",
    "                \n",
    "                # Wait for next interval\n",
    "                await asyncio.sleep(interval)\n",
    "                \n",
    "                # Check for heartbeat\n",
    "                if heartbeat:\n",
    "                    now = datetime.now().timestamp()\n",
    "                    if now - last_heartbeat > heartbeat:\n",
    "                        yield format_sse_comment(f\"heartbeat {datetime.now().isoformat()}\")\n",
    "                        last_heartbeat = now\n",
    "        else:\n",
    "            raise TypeError(\"data_source must be an async iterator or callable\")\n",
    "            \n",
    "    except asyncio.CancelledError:\n",
    "        # Send close event on cancellation\n",
    "        yield format_sse_message({\"status\": \"closed\"}, event=\"close\")\n",
    "        raise"
   ]
  },
  {
   "cell_type": "markdown",
   "id": "6048126e",
   "metadata": {},
   "source": [
    "## OOB (Out-of-Band) Message Utilities"
   ]
  },
  {
   "cell_type": "code",
   "execution_count": null,
   "id": "9a4f6e92",
   "metadata": {},
   "outputs": [],
   "source": [
    "#| export\n",
    "@dataclass\n",
    "class OOBUpdate:\n",
    "    \"\"\"\n",
    "    Represents an out-of-band update for HTMX.\n",
    "    \"\"\"\n",
    "    target_id: str # The ID of the element to update\n",
    "    content: str # The HTML content to swap in\n",
    "    swap_type: str = \"innerHTML\" # The type of swap (innerHTML, outerHTML, etc.)\n",
    "    \n",
    "    def to_html(\n",
    "        self\n",
    "    ) -> str:  # HTML string with hx-swap-oob attribute for HTMX\n",
    "        \"\"\"Convert to HTML with hx-swap-oob attribute\"\"\"\n",
    "        # For HTMX OOB, we need to wrap content with the target element\n",
    "        if self.swap_type == \"outerHTML\":\n",
    "            # Content should already include the element with ID\n",
    "            return self.content\n",
    "        else:\n",
    "            # Wrap content in a div with OOB swap directive\n",
    "            return f'<div id=\"{self.target_id}\" hx-swap-oob=\"{self.swap_type}\">{self.content}</div>'"
   ]
  },
  {
   "cell_type": "code",
   "execution_count": null,
   "id": "44cc8c5c",
   "metadata": {},
   "outputs": [],
   "source": [
    "#| export\n",
    "def format_oob_updates(\n",
    "    updates: List[OOBUpdate]  # List of OOB updates to format\n",
    ") -> str:  # Combined HTML string with all OOB updates\n",
    "    \"Format multiple OOB updates into a single HTML string.\"\n",
    "    if not updates:\n",
    "        return \"\"\n",
    "    \n",
    "    html_parts = [update.to_html() for update in updates]\n",
    "    return ''.join(html_parts)"
   ]
  },
  {
   "cell_type": "code",
   "execution_count": null,
   "id": "770e4b3a",
   "metadata": {},
   "outputs": [],
   "source": [
    "#| export\n",
    "def create_oob_message(\n",
    "    updates: List[OOBUpdate],  # List of OOB updates\n",
    "    event: str = \"message\"  # SSE event type\n",
    ") -> str:  # Formatted SSE message with OOB HTML\n",
    "    \"Create an SSE message containing OOB updates for HTMX.\"\n",
    "    html = format_oob_updates(updates)\n",
    "    return format_sse_message(html, event=event)"
   ]
  },
  {
   "cell_type": "markdown",
   "id": "7513e878",
   "metadata": {},
   "source": [
    "## Example Usage"
   ]
  },
  {
   "cell_type": "code",
   "execution_count": null,
   "id": "b1ed3f84",
   "metadata": {},
   "outputs": [
    {
     "name": "stdout",
     "output_type": "stream",
     "text": [
      "Basic message:\n",
      "event: message\n",
      "data: {\"hello\": \"world\"}\n",
      "\n",
      "\n",
      "Message with event type:\n",
      "event: update\n",
      "id: msg-1\n",
      "data: {\"count\": 42}\n",
      "\n",
      "\n",
      "Heartbeat comment:\n",
      ": ping\n",
      "\n",
      "\n"
     ]
    }
   ],
   "source": [
    "# Example: Basic SSE message formatting\n",
    "print(\"Basic message:\")\n",
    "print(format_sse_message({\"hello\": \"world\"}))\n",
    "\n",
    "print(\"Message with event type:\")\n",
    "print(format_sse_message(\n",
    "    {\"count\": 42},\n",
    "    event=\"update\",\n",
    "    id=\"msg-1\"\n",
    "))\n",
    "\n",
    "print(\"Heartbeat comment:\")\n",
    "print(format_sse_comment(\"ping\"))"
   ]
  },
  {
   "cell_type": "code",
   "execution_count": null,
   "id": "36d63395",
   "metadata": {},
   "outputs": [
    {
     "name": "stdout",
     "output_type": "stream",
     "text": [
      "[SSEBroadcastManager] Connection registered. Total connections: 1\n",
      "[SSE Stream] Client connected (active: 1)\n",
      "[SSEBroadcastManager] Broadcast to 1/1 clients\n",
      "Received 3 messages\n",
      "\n",
      "Message 1:\n",
      "event: connect\n",
      "data: {\"status\": \"ready\"}\n",
      "\n",
      "\n",
      "\n",
      "Message 2:\n",
      "event: message\n",
      "retry: 3000\n",
      "data: {\"status\": \"connected\"}\n",
      "\n",
      "\n",
      "\n",
      "Message 3:\n",
      "event: notification\n",
      "data: {\"type\": \"notification\", \"data\": {\"msg\": \"Hello\"}, \"timestamp\": \"2025-08-2...\n",
      "[SSE Stream] Client disconnected (active: 0)\n",
      "[SSEBroadcastManager] Connection unregistered. Total connections: 0\n",
      "[SSEBroadcastManager] No active connections to broadcast to\n"
     ]
    }
   ],
   "source": [
    "# Example: Using broadcast stream\n",
    "async def example_broadcast_stream():\n",
    "    manager = SSEBroadcastManager(debug=True)\n",
    "    \n",
    "    # Simulate sending some messages in background\n",
    "    async def send_messages():\n",
    "        await asyncio.sleep(0.1)\n",
    "        await manager.broadcast(\"notification\", {\"msg\": \"Hello\"})\n",
    "        await asyncio.sleep(0.1)\n",
    "        await manager.broadcast(\"update\", {\"value\": 123})\n",
    "    \n",
    "    # Start message sender\n",
    "    asyncio.create_task(send_messages())\n",
    "    \n",
    "    # Create stream and collect messages\n",
    "    messages = []\n",
    "    config = SSEStreamConfig(\n",
    "        heartbeat_interval=None,  # Disable heartbeat for test\n",
    "        timeout=0.5,  # Short timeout for test\n",
    "        initial_event={\"status\": \"ready\"},\n",
    "        debug=True\n",
    "    )\n",
    "    \n",
    "    async for msg in sse_broadcast_stream(manager, config=config):\n",
    "        messages.append(msg)\n",
    "        if len(messages) >= 3:  # Initial + 2 broadcasts\n",
    "            break\n",
    "    \n",
    "    print(f\"Received {len(messages)} messages\")\n",
    "    for i, msg in enumerate(messages[:3]):\n",
    "        print(f\"\\nMessage {i+1}:\")\n",
    "        print(msg[:100] + \"...\" if len(msg) > 100 else msg)\n",
    "\n",
    "await example_broadcast_stream()"
   ]
  },
  {
   "cell_type": "code",
   "execution_count": null,
   "id": "54fedf9c",
   "metadata": {},
   "outputs": [
    {
     "name": "stdout",
     "output_type": "stream",
     "text": [
      "Generated messages:\n",
      "event: counter\n",
      "data: {\"count\": 1}\n",
      "\n",
      "\n",
      "event: counter\n",
      "data: {\"count\": 2}\n",
      "\n",
      "\n",
      "event: counter\n",
      "data: {\"count\": 3}\n",
      "\n",
      "\n"
     ]
    }
   ],
   "source": [
    "# Example: Direct SSE generator from data source\n",
    "async def example_direct_generator():\n",
    "    # Create a simple data source\n",
    "    counter = 0\n",
    "    def get_data():\n",
    "        nonlocal counter\n",
    "        counter += 1\n",
    "        return {\"count\": counter} if counter <= 3 else None\n",
    "    \n",
    "    # Generate SSE stream\n",
    "    messages = []\n",
    "    async for msg in sse_generator(\n",
    "        get_data,\n",
    "        interval=0.1,\n",
    "        event_type=\"counter\",\n",
    "        heartbeat=None\n",
    "    ):\n",
    "        messages.append(msg)\n",
    "        if len(messages) >= 3:\n",
    "            break\n",
    "    \n",
    "    print(\"Generated messages:\")\n",
    "    for msg in messages:\n",
    "        print(msg)\n",
    "\n",
    "await example_direct_generator()"
   ]
  },
  {
   "cell_type": "code",
   "execution_count": null,
   "id": "1c9a2c27",
   "metadata": {},
   "outputs": [
    {
     "name": "stdout",
     "output_type": "stream",
     "text": [
      "OOB Updates HTML:\n",
      "<div id=\"status\" hx-swap-oob=\"innerHTML\"><span class='badge'>Active</span></div><div id=\"counter\" hx-swap-oob=\"innerHTML\"><strong>42</strong></div><div class='progress' value='75'></div>\n",
      "\n",
      "OOB SSE Message:\n",
      "event: message\n",
      "data: <div id=\"status\" hx-swap-oob=\"innerHTML\"><span class='badge'>Active</span></div><div id=\"counter\" hx-swap-oob=\"innerHTML\"><strong>42</strong></div><div class='progress' value='75'></div>\n",
      "\n",
      "\n"
     ]
    }
   ],
   "source": [
    "# Example: OOB updates\n",
    "updates = [\n",
    "    OOBUpdate(\"status\", \"<span class='badge'>Active</span>\"),\n",
    "    OOBUpdate(\"counter\", \"<strong>42</strong>\"),\n",
    "    OOBUpdate(\"progress\", \"<div class='progress' value='75'></div>\", \"outerHTML\")\n",
    "]\n",
    "\n",
    "print(\"OOB Updates HTML:\")\n",
    "print(format_oob_updates(updates))\n",
    "\n",
    "print(\"\\nOOB SSE Message:\")\n",
    "print(create_oob_message(updates))"
   ]
  },
  {
   "cell_type": "markdown",
   "id": "22fa5853",
   "metadata": {},
   "source": [
    "## Testing"
   ]
  },
  {
   "cell_type": "code",
   "execution_count": null,
   "id": "0a7d7b15",
   "metadata": {},
   "outputs": [
    {
     "name": "stdout",
     "output_type": "stream",
     "text": [
      "✓ SSE formatting tests passed\n"
     ]
    }
   ],
   "source": [
    "# Test: SSE message formatting\n",
    "def test_sse_formatting():\n",
    "    # Test basic message\n",
    "    msg = format_sse_message(\"hello\")\n",
    "    assert \"data: hello\" in msg\n",
    "    assert msg.endswith(\"\\n\\n\")\n",
    "    \n",
    "    # Test with event\n",
    "    msg = format_sse_message({\"test\": 1}, event=\"update\")\n",
    "    assert \"event: update\" in msg\n",
    "    assert 'data: {\"test\": 1}' in msg\n",
    "    \n",
    "    # Test comment\n",
    "    comment = format_sse_comment(\"heartbeat\")\n",
    "    assert comment == \": heartbeat\\n\\n\"\n",
    "    \n",
    "    print(\"✓ SSE formatting tests passed\")\n",
    "\n",
    "test_sse_formatting()"
   ]
  },
  {
   "cell_type": "code",
   "execution_count": null,
   "id": "8bd88cda",
   "metadata": {},
   "outputs": [
    {
     "name": "stdout",
     "output_type": "stream",
     "text": [
      "✓ OOB update tests passed\n"
     ]
    }
   ],
   "source": [
    "# Test: OOB updates\n",
    "def test_oob_updates():\n",
    "    update = OOBUpdate(\"test-id\", \"<p>Content</p>\")\n",
    "    html = update.to_html()\n",
    "    assert 'id=\"test-id\"' in html\n",
    "    assert 'hx-swap-oob=\"innerHTML\"' in html\n",
    "    assert \"<p>Content</p>\" in html\n",
    "    \n",
    "    # Test multiple updates\n",
    "    updates = [\n",
    "        OOBUpdate(\"id1\", \"content1\"),\n",
    "        OOBUpdate(\"id2\", \"content2\")\n",
    "    ]\n",
    "    combined = format_oob_updates(updates)\n",
    "    assert 'id=\"id1\"' in combined\n",
    "    assert 'id=\"id2\"' in combined\n",
    "    \n",
    "    print(\"✓ OOB update tests passed\")\n",
    "\n",
    "test_oob_updates()"
   ]
  },
  {
   "cell_type": "code",
   "execution_count": null,
   "id": "923fba19",
   "metadata": {},
   "outputs": [],
   "source": [
    "#| hide\n",
    "import nbdev; nbdev.nbdev_export()"
   ]
  }
 ],
 "metadata": {
  "kernelspec": {
   "display_name": "python3",
   "language": "python",
   "name": "python3"
  }
 },
 "nbformat": 4,
 "nbformat_minor": 5
}
