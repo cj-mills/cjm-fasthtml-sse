{
 "cells": [
  {
   "cell_type": "markdown",
   "id": "e1f71488",
   "metadata": {},
   "source": [
    "# Routes\n",
    "\n",
    "> SSE route helpers and decorators for FastHTML"
   ]
  },
  {
   "cell_type": "code",
   "execution_count": null,
   "id": "092972e7",
   "metadata": {},
   "outputs": [],
   "source": [
    "#| default_exp core.routes"
   ]
  },
  {
   "cell_type": "code",
   "execution_count": null,
   "id": "0bbb92a2",
   "metadata": {},
   "outputs": [],
   "source": [
    "#| hide\n",
    "from nbdev.showdoc import *"
   ]
  },
  {
   "cell_type": "code",
   "execution_count": null,
   "id": "67dea197",
   "metadata": {},
   "outputs": [],
   "source": [
    "#| export\n",
    "import asyncio\n",
    "from typing import Optional, Callable, Any, Dict, AsyncGenerator, Union\n",
    "from functools import wraps\n",
    "from dataclasses import dataclass\n",
    "from fasthtml.common import EventStream, sse_message\n",
    "from cjm_fasthtml_sse.core.connections import ConnectionRegistry\n",
    "from cjm_fasthtml_sse.core.streaming import SSEStream, StreamConfig"
   ]
  },
  {
   "cell_type": "markdown",
   "id": "be5ff705",
   "metadata": {},
   "source": [
    "## Core Classes"
   ]
  },
  {
   "cell_type": "code",
   "execution_count": null,
   "id": "6d9b1c6b",
   "metadata": {},
   "outputs": [],
   "source": [
    "#| export\n",
    "@dataclass\n",
    "class SSERouteConfig:\n",
    "    \"\"\"Configuration for SSE route\"\"\"\n",
    "    connection_type: str = \"sse\"  # Connection type for registry\n",
    "    stream_config: Optional[StreamConfig] = None  # Stream configuration\n",
    "    registry: Optional[ConnectionRegistry] = None  # Connection registry\n",
    "    validate_fn: Optional[Callable] = None  # Validation function\n",
    "    metadata_fn: Optional[Callable] = None  # Function to generate metadata\n",
    "    error_handler: Optional[Callable] = None  # Error handler function\n",
    "    debug: bool = False  # Enable debug logging"
   ]
  },
  {
   "cell_type": "code",
   "execution_count": null,
   "id": "8de5984f",
   "metadata": {},
   "outputs": [],
   "source": [
    "#| export\n",
    "def create_sse_route(\n",
    "    data_generator: Callable,  # Async generator function\n",
    "    transform_fn: Optional[Callable] = None,  # Optional transform function\n",
    "    config: Optional[SSERouteConfig] = None  # Route configuration\n",
    ") -> Callable:  # Route handler\n",
    "    \"\"\"Create an SSE route handler with automatic connection management.\"\"\"\n",
    "    \n",
    "    config = config or SSERouteConfig()\n",
    "    \n",
    "    async def route_handler(**kwargs):\n",
    "        \"\"\"SSE route handler.\"\"\"\n",
    "        \n",
    "        # Validation\n",
    "        if config.validate_fn:\n",
    "            validation_result = await config.validate_fn(**kwargs) if asyncio.iscoroutinefunction(config.validate_fn) else config.validate_fn(**kwargs)\n",
    "            if not validation_result:\n",
    "                return EventStream(async_error_generator(\"Validation failed\"))\n",
    "        \n",
    "        async def stream():\n",
    "            connection = None\n",
    "            \n",
    "            try:\n",
    "                # Register connection if registry provided\n",
    "                if config.registry:\n",
    "                    metadata = config.metadata_fn(**kwargs) if config.metadata_fn else kwargs\n",
    "                    connection = await config.registry.add_connection(\n",
    "                        conn_type=config.connection_type,\n",
    "                        metadata=metadata\n",
    "                    )\n",
    "                    if config.debug:\n",
    "                        print(f\"[SSERoute] Connection registered: {connection.connection_id}\")\n",
    "                \n",
    "                # Generate data\n",
    "                data_source = data_generator(**kwargs)\n",
    "                if callable(data_source) and not hasattr(data_source, '__anext__'):\n",
    "                    data_source = data_source()\n",
    "                \n",
    "                # Stream with SSEStream wrapper\n",
    "                stream_config = config.stream_config or StreamConfig()\n",
    "                sse_stream = SSEStream(stream_config)\n",
    "                \n",
    "                async for message in sse_stream.stream(data_source, transform_fn):\n",
    "                    yield message\n",
    "                    \n",
    "            except Exception as e:\n",
    "                if config.error_handler:\n",
    "                    error_msg = await config.error_handler(e, **kwargs) if asyncio.iscoroutinefunction(config.error_handler) else config.error_handler(e, **kwargs)\n",
    "                    yield sse_message(error_msg)\n",
    "                elif config.debug:\n",
    "                    yield f\": error {str(e)}\\n\\n\"\n",
    "                raise\n",
    "                \n",
    "            finally:\n",
    "                # Unregister connection\n",
    "                if connection and config.registry:\n",
    "                    await config.registry.remove_connection(connection.connection_id)\n",
    "                    if config.debug:\n",
    "                        print(f\"[SSERoute] Connection unregistered: {connection.connection_id}\")\n",
    "        \n",
    "        return EventStream(stream())\n",
    "    \n",
    "    return route_handler\n",
    "\n",
    "async def async_error_generator(message: str):\n",
    "    \"\"\"Generate an error message for SSE.\"\"\"\n",
    "    yield f\": error {message}\\n\\n\""
   ]
  },
  {
   "cell_type": "code",
   "execution_count": null,
   "id": "98b9c6ad",
   "metadata": {},
   "outputs": [],
   "source": [
    "#| export\n",
    "def sse_route(\n",
    "    path: Optional[str] = None,  # Route path\n",
    "    transform_fn: Optional[Callable] = None,  # Transform function\n",
    "    config: Optional[SSERouteConfig] = None  # Route configuration\n",
    ") -> Callable:  # Decorator\n",
    "    \"\"\"Decorator to create SSE routes.\"\"\"\n",
    "    \n",
    "    def decorator(func: Callable) -> Callable:\n",
    "        \"\"\"Decorate an async generator function as an SSE route.\"\"\"\n",
    "        \n",
    "        # Create the SSE route handler\n",
    "        handler = create_sse_route(func, transform_fn, config)\n",
    "        \n",
    "        # Preserve function metadata\n",
    "        handler.__name__ = func.__name__\n",
    "        handler.__doc__ = func.__doc__\n",
    "        \n",
    "        # Store path for app registration\n",
    "        handler.sse_path = path or f\"/{func.__name__}\"\n",
    "        \n",
    "        return handler\n",
    "    \n",
    "    return decorator"
   ]
  },
  {
   "cell_type": "markdown",
   "id": "19843482",
   "metadata": {},
   "source": [
    "### Tests for SSE Route"
   ]
  },
  {
   "cell_type": "code",
   "execution_count": null,
   "id": "af1ee1b7",
   "metadata": {},
   "outputs": [
    {
     "name": "stdout",
     "output_type": "stream",
     "text": [
      "✓ SSERouteConfig tests passed\n"
     ]
    }
   ],
   "source": [
    "#| test\n",
    "# Test SSERouteConfig\n",
    "config = SSERouteConfig(\n",
    "    connection_type=\"test\",\n",
    "    debug=True\n",
    ")\n",
    "\n",
    "assert config.connection_type == \"test\"\n",
    "assert config.debug == True\n",
    "assert config.stream_config is None\n",
    "assert config.registry is None\n",
    "assert config.validate_fn is None\n",
    "\n",
    "print(\"✓ SSERouteConfig tests passed\")"
   ]
  },
  {
   "cell_type": "code",
   "execution_count": null,
   "id": "bba46a9f",
   "metadata": {},
   "outputs": [
    {
     "name": "stdout",
     "output_type": "stream",
     "text": [
      "✓ create_sse_route tests passed\n"
     ]
    }
   ],
   "source": [
    "#| test\n",
    "# Test create_sse_route\n",
    "async def test_data_generator(param1=\"default\"):\n",
    "    for i in range(3):\n",
    "        yield f\"message_{i}_{param1}\"\n",
    "        await asyncio.sleep(0.01)\n",
    "\n",
    "# Create route without config\n",
    "handler = create_sse_route(test_data_generator)\n",
    "assert callable(handler)\n",
    "\n",
    "# Create route with transform\n",
    "def transform(data):\n",
    "    return f\"Transformed: {data}\"\n",
    "\n",
    "handler_with_transform = create_sse_route(\n",
    "    test_data_generator,\n",
    "    transform_fn=transform\n",
    ")\n",
    "assert callable(handler_with_transform)\n",
    "\n",
    "print(\"✓ create_sse_route tests passed\")"
   ]
  },
  {
   "cell_type": "code",
   "execution_count": null,
   "id": "0728f6a3",
   "metadata": {},
   "outputs": [
    {
     "name": "stdout",
     "output_type": "stream",
     "text": [
      "✓ sse_route decorator tests passed\n"
     ]
    }
   ],
   "source": [
    "#| test\n",
    "# Test sse_route decorator\n",
    "@sse_route(path=\"/test_stream\")\n",
    "async def test_stream(value=\"test\"):\n",
    "    for i in range(2):\n",
    "        yield f\"{value}_{i}\"\n",
    "\n",
    "assert callable(test_stream)\n",
    "assert test_stream.sse_path == \"/test_stream\"\n",
    "assert test_stream.__name__ == \"test_stream\"\n",
    "\n",
    "# Test with transform\n",
    "@sse_route(transform_fn=lambda x: {\"data\": x})\n",
    "async def test_stream_transform():\n",
    "    yield \"test\"\n",
    "\n",
    "assert callable(test_stream_transform)\n",
    "assert test_stream_transform.sse_path == \"/test_stream_transform\"\n",
    "\n",
    "print(\"✓ sse_route decorator tests passed\")"
   ]
  },
  {
   "cell_type": "markdown",
   "id": "793a11b8",
   "metadata": {},
   "source": [
    "## Helper Functions"
   ]
  },
  {
   "cell_type": "code",
   "execution_count": null,
   "id": "ed81da86",
   "metadata": {},
   "outputs": [],
   "source": [
    "#| export\n",
    "def setup_sse_routes(\n",
    "    app,  # FastHTML app\n",
    "    *handlers,  # SSE route handlers created with @sse_route\n",
    "    prefix: str = \"\",  # URL prefix\n",
    "    registry: Optional[ConnectionRegistry] = None  # Shared registry\n",
    "):\n",
    "    \"\"\"Setup multiple SSE routes on an app.\"\"\"\n",
    "    for handler in handlers:\n",
    "        if hasattr(handler, 'sse_path'):\n",
    "            path = f\"{prefix}{handler.sse_path}\"\n",
    "            \n",
    "            # If handler needs registry and doesn't have one, inject it\n",
    "            if registry and not hasattr(handler, '_registry'):\n",
    "                handler._registry = registry\n",
    "            \n",
    "            app.route(path)(handler)\n",
    "            print(f\"[SSE Routes] Registered: {path}\")"
   ]
  },
  {
   "cell_type": "code",
   "execution_count": null,
   "id": "eed0db2a",
   "metadata": {},
   "outputs": [],
   "source": [
    "#| export\n",
    "def create_conditional_sse_route(\n",
    "    active_generator: Callable,  # Generator for active entities\n",
    "    inactive_content: Callable,  # Function to generate content for inactive entities\n",
    "    is_active_fn: Callable,  # Function to check if entity is active\n",
    "    transform_fn: Optional[Callable] = None,  # Transform function\n",
    "    config: Optional[SSERouteConfig] = None  # Route configuration\n",
    ") -> Callable:  # Route handler\n",
    "    \"\"\"Create an SSE route that handles both active and inactive states.\"\"\"\n",
    "    \n",
    "    async def conditional_generator(**kwargs):\n",
    "        \"\"\"Conditional data generator.\"\"\"\n",
    "        # Check if entity is active\n",
    "        is_active = await is_active_fn(**kwargs) if asyncio.iscoroutinefunction(is_active_fn) else is_active_fn(**kwargs)\n",
    "        \n",
    "        if is_active:\n",
    "            # Use active generator\n",
    "            async for data in active_generator(**kwargs):\n",
    "                yield data\n",
    "        else:\n",
    "            # Send inactive content and close\n",
    "            content = await inactive_content(**kwargs) if asyncio.iscoroutinefunction(inactive_content) else inactive_content(**kwargs)\n",
    "            yield content\n",
    "    \n",
    "    return create_sse_route(conditional_generator, transform_fn, config)"
   ]
  },
  {
   "cell_type": "code",
   "execution_count": null,
   "id": "e16485a0",
   "metadata": {},
   "outputs": [
    {
     "name": "stdout",
     "output_type": "stream",
     "text": [
      "✓ create_conditional_sse_route tests passed\n"
     ]
    }
   ],
   "source": [
    "#| test\n",
    "# Test create_conditional_sse_route\n",
    "async def active_gen(id=\"\"):\n",
    "    for i in range(3):\n",
    "        yield f\"active_{i}\"\n",
    "        await asyncio.sleep(0.01)\n",
    "\n",
    "def inactive_gen(id=\"\"):\n",
    "    return f\"inactive_{id}\"\n",
    "\n",
    "def check_active(id=\"\"):\n",
    "    return id != \"inactive\"\n",
    "\n",
    "conditional_handler = create_conditional_sse_route(\n",
    "    active_generator=active_gen,\n",
    "    inactive_content=inactive_gen,\n",
    "    is_active_fn=check_active\n",
    ")\n",
    "\n",
    "assert callable(conditional_handler)\n",
    "\n",
    "print(\"✓ create_conditional_sse_route tests passed\")"
   ]
  },
  {
   "cell_type": "markdown",
   "id": "9d53a9d2",
   "metadata": {},
   "source": [
    "## Export"
   ]
  },
  {
   "cell_type": "code",
   "execution_count": null,
   "id": "f51cd214",
   "metadata": {},
   "outputs": [],
   "source": [
    "#| hide\n",
    "import nbdev; nbdev.nbdev_export()"
   ]
  }
 ],
 "metadata": {
  "kernelspec": {
   "display_name": "python3",
   "language": "python",
   "name": "python3"
  }
 },
 "nbformat": 4,
 "nbformat_minor": 5
}
