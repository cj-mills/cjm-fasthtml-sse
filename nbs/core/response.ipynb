{
 "cells": [
  {
   "cell_type": "markdown",
   "id": "18603b0d",
   "metadata": {},
   "source": [
    "# Response\n",
    "\n",
    "> SSE response builders for complex UI updates"
   ]
  },
  {
   "cell_type": "code",
   "execution_count": null,
   "id": "502dbbf4",
   "metadata": {},
   "outputs": [],
   "source": [
    "#| default_exp core.response"
   ]
  },
  {
   "cell_type": "code",
   "execution_count": null,
   "id": "a85dc81f",
   "metadata": {},
   "outputs": [],
   "source": [
    "#| hide\n",
    "from nbdev.showdoc import *"
   ]
  },
  {
   "cell_type": "code",
   "execution_count": null,
   "id": "e56984ae",
   "metadata": {},
   "outputs": [],
   "source": [
    "#| export\n",
    "from typing import Dict, List, Any, Optional, Callable, Union, Tuple\n",
    "from dataclasses import dataclass, field\n",
    "from fasthtml.common import Div, FT, sse_message\n",
    "from cjm_fasthtml_sse.core.streaming import OOBStreamBuilder"
   ]
  },
  {
   "cell_type": "markdown",
   "id": "19fc1266",
   "metadata": {},
   "source": [
    "## Core Classes"
   ]
  },
  {
   "cell_type": "code",
   "execution_count": null,
   "id": "57d5936d",
   "metadata": {},
   "outputs": [],
   "source": [
    "#| export\n",
    "@dataclass\n",
    "class UpdateRule:\n",
    "    \"\"\"Rule for conditional element updates\"\"\"\n",
    "    condition: Callable  # Function that returns True if rule should apply\n",
    "    builder: Callable  # Function that builds the element(s)\n",
    "    target_id: Optional[str] = None  # Target element ID for OOB swap\n",
    "    swap_mode: str = \"innerHTML\"  # Swap mode\n",
    "    priority: int = 0  # Higher priority rules are evaluated first"
   ]
  },
  {
   "cell_type": "code",
   "execution_count": null,
   "id": "fe779d27",
   "metadata": {},
   "outputs": [],
   "source": [
    "#| export\n",
    "class SSEResponseBuilder:\n",
    "    \"\"\"Builder for complex SSE responses with conditional updates\"\"\"\n",
    "    \n",
    "    def __init__(\n",
    "        self,\n",
    "        debug: bool = False  # Enable debug logging\n",
    "    ):\n",
    "        \"\"\"Initialize the response builder.\"\"\"\n",
    "        self.debug = debug\n",
    "        self.rules: List[UpdateRule] = []\n",
    "        self.always_include: List[Callable] = []\n",
    "        self.context: Dict[str, Any] = {}\n",
    "    \n",
    "    def add_rule(\n",
    "        self,\n",
    "        condition: Callable,  # Condition function\n",
    "        builder: Callable,  # Element builder function\n",
    "        target_id: Optional[str] = None,  # Target ID for OOB\n",
    "        swap_mode: str = \"innerHTML\",  # Swap mode\n",
    "        priority: int = 0  # Rule priority\n",
    "    ) -> 'SSEResponseBuilder':  # Self for chaining\n",
    "        \"\"\"Add a conditional update rule.\"\"\"\n",
    "        rule = UpdateRule(\n",
    "            condition=condition,\n",
    "            builder=builder,\n",
    "            target_id=target_id,\n",
    "            swap_mode=swap_mode,\n",
    "            priority=priority\n",
    "        )\n",
    "        self.rules.append(rule)\n",
    "        # Sort by priority (highest first)\n",
    "        self.rules.sort(key=lambda r: r.priority, reverse=True)\n",
    "        return self\n",
    "    \n",
    "    def add_always(\n",
    "        self,\n",
    "        builder: Callable  # Element builder that always runs\n",
    "    ) -> 'SSEResponseBuilder':  # Self for chaining\n",
    "        \"\"\"Add a builder that always runs.\"\"\"\n",
    "        self.always_include.append(builder)\n",
    "        return self\n",
    "    \n",
    "    def set_context(\n",
    "        self,\n",
    "        **kwargs  # Context variables\n",
    "    ) -> 'SSEResponseBuilder':  # Self for chaining\n",
    "        \"\"\"Set context variables for builders.\"\"\"\n",
    "        self.context.update(kwargs)\n",
    "        return self\n",
    "    \n",
    "    def build(\n",
    "        self,\n",
    "        **kwargs  # Additional context for this build\n",
    "    ) -> FT:  # Built response\n",
    "        \"\"\"Build the response based on rules and context.\"\"\"\n",
    "        # Merge contexts\n",
    "        build_context = {**self.context, **kwargs}\n",
    "        \n",
    "        # Use OOBStreamBuilder for clean element construction\n",
    "        builder = OOBStreamBuilder()\n",
    "        \n",
    "        # Always include elements\n",
    "        for always_builder in self.always_include:\n",
    "            elements = always_builder(**build_context)\n",
    "            if elements:\n",
    "                if isinstance(elements, list):\n",
    "                    for elem in elements:\n",
    "                        builder.add_element(elem)\n",
    "                else:\n",
    "                    builder.add_element(elements)\n",
    "        \n",
    "        # Apply conditional rules\n",
    "        for rule in self.rules:\n",
    "            if rule.condition(**build_context):\n",
    "                elements = rule.builder(**build_context)\n",
    "                if elements:\n",
    "                    if isinstance(elements, list):\n",
    "                        for elem in elements:\n",
    "                            builder.add_element(\n",
    "                                elem,\n",
    "                                target_id=rule.target_id,\n",
    "                                swap_mode=rule.swap_mode\n",
    "                            )\n",
    "                    else:\n",
    "                        builder.add_element(\n",
    "                            elements,\n",
    "                            target_id=rule.target_id,\n",
    "                            swap_mode=rule.swap_mode\n",
    "                        )\n",
    "                \n",
    "                if self.debug:\n",
    "                    print(f\"[SSEResponseBuilder] Applied rule with priority {rule.priority}\")\n",
    "        \n",
    "        return builder.build()\n",
    "    \n",
    "    def clear_rules(\n",
    "        self\n",
    "    ) -> 'SSEResponseBuilder':  # Self for chaining\n",
    "        \"\"\"Clear all rules.\"\"\"\n",
    "        self.rules = []\n",
    "        return self\n",
    "    \n",
    "    def clear_always(\n",
    "        self\n",
    "    ) -> 'SSEResponseBuilder':  # Self for chaining\n",
    "        \"\"\"Clear always-include builders.\"\"\"\n",
    "        self.always_include = []\n",
    "        return self"
   ]
  },
  {
   "cell_type": "markdown",
   "id": "2e0a6fe3",
   "metadata": {},
   "source": [
    "### Tests for SSEResponseBuilder"
   ]
  },
  {
   "cell_type": "code",
   "execution_count": null,
   "id": "4cfe08fd",
   "metadata": {},
   "outputs": [
    {
     "name": "stdout",
     "output_type": "stream",
     "text": [
      "✓ SSEResponseBuilder initialization tests passed\n"
     ]
    }
   ],
   "source": [
    "#| test\n",
    "# Test SSEResponseBuilder initialization\n",
    "builder = SSEResponseBuilder(debug=False)\n",
    "\n",
    "assert builder.debug == False\n",
    "assert len(builder.rules) == 0\n",
    "assert len(builder.always_include) == 0\n",
    "assert len(builder.context) == 0\n",
    "\n",
    "print(\"✓ SSEResponseBuilder initialization tests passed\")"
   ]
  },
  {
   "cell_type": "code",
   "execution_count": null,
   "id": "287056a3",
   "metadata": {},
   "outputs": [
    {
     "name": "stdout",
     "output_type": "stream",
     "text": [
      "✓ SSEResponseBuilder rule management tests passed\n"
     ]
    }
   ],
   "source": [
    "#| test\n",
    "# Test adding rules and always-include builders\n",
    "from fasthtml.common import P, Span\n",
    "\n",
    "builder = SSEResponseBuilder()\n",
    "\n",
    "# Add always-include builder\n",
    "def always_stats(**ctx):\n",
    "    return P(f\"Count: {ctx.get('count', 0)}\")\n",
    "\n",
    "builder.add_always(always_stats)\n",
    "assert len(builder.always_include) == 1\n",
    "\n",
    "# Add conditional rules\n",
    "def is_active(**ctx):\n",
    "    return ctx.get('status') == 'active'\n",
    "\n",
    "def active_element(**ctx):\n",
    "    return Span(\"Active\", id=\"status\")\n",
    "\n",
    "builder.add_rule(\n",
    "    condition=is_active,\n",
    "    builder=active_element,\n",
    "    target_id=\"status-container\",\n",
    "    priority=10\n",
    ")\n",
    "\n",
    "assert len(builder.rules) == 1\n",
    "assert builder.rules[0].priority == 10\n",
    "\n",
    "# Add another rule with lower priority\n",
    "def is_error(**ctx):\n",
    "    return ctx.get('error', False)\n",
    "\n",
    "def error_element(**ctx):\n",
    "    return Span(\"Error!\", id=\"error\")\n",
    "\n",
    "builder.add_rule(\n",
    "    condition=is_error,\n",
    "    builder=error_element,\n",
    "    priority=5\n",
    ")\n",
    "\n",
    "assert len(builder.rules) == 2\n",
    "# Check rules are sorted by priority\n",
    "assert builder.rules[0].priority == 10\n",
    "assert builder.rules[1].priority == 5\n",
    "\n",
    "print(\"✓ SSEResponseBuilder rule management tests passed\")"
   ]
  },
  {
   "cell_type": "code",
   "execution_count": null,
   "id": "a1df7436",
   "metadata": {},
   "outputs": [
    {
     "name": "stdout",
     "output_type": "stream",
     "text": [
      "✓ SSEResponseBuilder context and build tests passed\n"
     ]
    }
   ],
   "source": [
    "#| test\n",
    "# Test context and building\n",
    "from fasthtml.common import P, Div\n",
    "\n",
    "builder = SSEResponseBuilder()\n",
    "\n",
    "# Set context\n",
    "builder.set_context(user=\"test_user\", role=\"admin\")\n",
    "assert builder.context[\"user\"] == \"test_user\"\n",
    "assert builder.context[\"role\"] == \"admin\"\n",
    "\n",
    "# Add builders\n",
    "def user_info(**ctx):\n",
    "    return P(f\"User: {ctx.get('user', 'unknown')}\")\n",
    "\n",
    "def admin_panel(**ctx):\n",
    "    return Div(\"Admin Panel\", id=\"admin\")\n",
    "\n",
    "builder.add_always(user_info)\n",
    "builder.add_rule(\n",
    "    condition=lambda **ctx: ctx.get('role') == 'admin',\n",
    "    builder=admin_panel\n",
    ")\n",
    "\n",
    "# Build with context\n",
    "result = builder.build()\n",
    "assert result is not None\n",
    "\n",
    "# Build with override context\n",
    "result2 = builder.build(role=\"user\")\n",
    "assert result2 is not None\n",
    "\n",
    "# Clear and rebuild\n",
    "builder.clear_rules().clear_always()\n",
    "assert len(builder.rules) == 0\n",
    "assert len(builder.always_include) == 0\n",
    "\n",
    "print(\"✓ SSEResponseBuilder context and build tests passed\")"
   ]
  },
  {
   "cell_type": "markdown",
   "id": "3d1f2b22",
   "metadata": {},
   "source": [
    "## Helper Functions"
   ]
  },
  {
   "cell_type": "code",
   "execution_count": null,
   "id": "e41244ef",
   "metadata": {},
   "outputs": [],
   "source": [
    "#| export\n",
    "def create_conditional_response(\n",
    "    conditions: List[Tuple[Callable, Callable]],  # List of (condition, builder) tuples\n",
    "    always_include: Optional[List[Callable]] = None,  # Builders that always run\n",
    "    context: Optional[Dict[str, Any]] = None  # Initial context\n",
    ") -> SSEResponseBuilder:  # Configured response builder\n",
    "    \"\"\"Create a response builder with predefined conditions.\"\"\"\n",
    "    builder = SSEResponseBuilder()\n",
    "    \n",
    "    # Set initial context\n",
    "    if context:\n",
    "        builder.set_context(**context)\n",
    "    \n",
    "    # Add always-include builders\n",
    "    if always_include:\n",
    "        for always_builder in always_include:\n",
    "            builder.add_always(always_builder)\n",
    "    \n",
    "    # Add conditional rules\n",
    "    for i, (condition, element_builder) in enumerate(conditions):\n",
    "        builder.add_rule(\n",
    "            condition=condition,\n",
    "            builder=element_builder,\n",
    "            priority=len(conditions) - i  # Higher priority for earlier rules\n",
    "        )\n",
    "    \n",
    "    return builder"
   ]
  },
  {
   "cell_type": "code",
   "execution_count": null,
   "id": "68403ccf",
   "metadata": {},
   "outputs": [],
   "source": [
    "#| export\n",
    "def create_state_response_builder(\n",
    "    state_builders: Dict[str, Callable],  # Mapping of state names to builders\n",
    "    get_state_fn: Callable,  # Function to determine current state\n",
    "    default_builder: Optional[Callable] = None  # Default builder if no state matches\n",
    ") -> SSEResponseBuilder:  # Configured response builder\n",
    "    \"\"\"Create a response builder for state-based updates.\"\"\"\n",
    "    builder = SSEResponseBuilder()\n",
    "    \n",
    "    # Add rules for each state\n",
    "    for state_name, state_builder in state_builders.items():\n",
    "        builder.add_rule(\n",
    "            condition=lambda s=state_name, **ctx: get_state_fn(**ctx) == s,\n",
    "            builder=state_builder\n",
    "        )\n",
    "    \n",
    "    # Add default if provided\n",
    "    if default_builder:\n",
    "        builder.add_rule(\n",
    "            condition=lambda **ctx: get_state_fn(**ctx) not in state_builders,\n",
    "            builder=default_builder,\n",
    "            priority=-1  # Lowest priority\n",
    "        )\n",
    "    \n",
    "    return builder"
   ]
  },
  {
   "cell_type": "code",
   "execution_count": null,
   "id": "71074a4c",
   "metadata": {},
   "outputs": [
    {
     "name": "stdout",
     "output_type": "stream",
     "text": [
      "✓ create_conditional_response tests passed\n"
     ]
    }
   ],
   "source": [
    "#| test\n",
    "# Test create_conditional_response\n",
    "from fasthtml.common import P, Div\n",
    "\n",
    "conditions = [\n",
    "    (lambda **ctx: ctx.get('level') > 5, lambda **ctx: P(\"High level\")),\n",
    "    (lambda **ctx: ctx.get('level') > 0, lambda **ctx: P(\"Low level\")),\n",
    "]\n",
    "\n",
    "always = [lambda **ctx: Div(\"Header\")]\n",
    "\n",
    "builder = create_conditional_response(\n",
    "    conditions=conditions,\n",
    "    always_include=always,\n",
    "    context={\"app\": \"test\"}\n",
    ")\n",
    "\n",
    "assert len(builder.rules) == 2\n",
    "assert len(builder.always_include) == 1\n",
    "assert builder.context[\"app\"] == \"test\"\n",
    "\n",
    "print(\"✓ create_conditional_response tests passed\")"
   ]
  },
  {
   "cell_type": "code",
   "execution_count": null,
   "id": "7695a06a",
   "metadata": {},
   "outputs": [
    {
     "name": "stdout",
     "output_type": "stream",
     "text": [
      "✓ create_state_response_builder tests passed\n"
     ]
    }
   ],
   "source": [
    "#| test\n",
    "# Test create_state_response_builder\n",
    "from fasthtml.common import Span\n",
    "\n",
    "state_builders = {\n",
    "    \"running\": lambda **ctx: Span(\"Running...\"),\n",
    "    \"complete\": lambda **ctx: Span(\"Complete!\"),\n",
    "    \"error\": lambda **ctx: Span(\"Error!\")\n",
    "}\n",
    "\n",
    "def get_state(**ctx):\n",
    "    return ctx.get('status', 'unknown')\n",
    "\n",
    "def default(**ctx):\n",
    "    return Span(\"Unknown state\")\n",
    "\n",
    "builder = create_state_response_builder(\n",
    "    state_builders=state_builders,\n",
    "    get_state_fn=get_state,\n",
    "    default_builder=default\n",
    ")\n",
    "\n",
    "assert len(builder.rules) == 4  # 3 states + 1 default\n",
    "\n",
    "# Test building with different states\n",
    "result_running = builder.build(status=\"running\")\n",
    "assert result_running is not None\n",
    "\n",
    "result_unknown = builder.build(status=\"unknown\")\n",
    "assert result_unknown is not None\n",
    "\n",
    "print(\"✓ create_state_response_builder tests passed\")"
   ]
  },
  {
   "cell_type": "markdown",
   "id": "719578a3",
   "metadata": {},
   "source": [
    "## Export"
   ]
  },
  {
   "cell_type": "code",
   "execution_count": null,
   "id": "4094e4bb",
   "metadata": {},
   "outputs": [],
   "source": [
    "#| hide\n",
    "import nbdev; nbdev.nbdev_export()"
   ]
  }
 ],
 "metadata": {
  "kernelspec": {
   "display_name": "python3",
   "language": "python",
   "name": "python3"
  }
 },
 "nbformat": 4,
 "nbformat_minor": 5
}
