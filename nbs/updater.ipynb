{
 "cells": [
  {
   "cell_type": "markdown",
   "id": "f2f24d7c-29ef-4db5-8666-be6f009c917f",
   "metadata": {},
   "source": [
    "# SSEElementUpdater\n",
    "\n",
    "> Flexible element update system for building out-of-band (OOB) swap elements. Register handlers by event type and compose updates without coupling to specific UI components."
   ]
  },
  {
   "cell_type": "code",
   "execution_count": null,
   "id": "7172967d-ece5-45d8-a40c-2100d3f285be",
   "metadata": {},
   "outputs": [],
   "source": [
    "#| default_exp updater"
   ]
  },
  {
   "cell_type": "code",
   "execution_count": null,
   "id": "2628bfb2-2dab-4d90-a0b6-6e0ec061ba33",
   "metadata": {},
   "outputs": [],
   "source": [
    "#| hide\n",
    "from nbdev.showdoc import *"
   ]
  },
  {
   "cell_type": "code",
   "execution_count": null,
   "id": "d888db48-4c52-4cc9-950d-86f7c976edc9",
   "metadata": {},
   "outputs": [],
   "source": [
    "#| export\n",
    "from typing import Callable, Dict, Any, List, Optional, Union"
   ]
  },
  {
   "cell_type": "code",
   "execution_count": null,
   "id": "26813f86-ea66-41de-a169-2149178e63fa",
   "metadata": {},
   "outputs": [],
   "source": "#| export\nclass SSEElementUpdater:\n    \"\"\"Builds OOB swap elements without hardcoding UI components.\"\"\"\n    \n    def __init__(self):\n        \"\"\"Initialize the updater with empty handler registry.\"\"\"\n        self._handlers: Dict[str, List[Callable]] = {}\n        self._default_handler: Optional[Callable] = None\n        self._preprocessors: List[Callable] = []\n        self._postprocessors: List[Callable] = []\n    \n    def register(\n        self,\n        event_type: str,  # The event type to handle\n        priority: int = 0  # Handler priority (higher numbers run first)\n    ): # Decorator function\n        \"\"\"Decorator to register an update handler for a specific event type.\"\"\"\n        def decorator(\n            handler: Callable  # The handler function to register\n        ):\n            if event_type not in self._handlers:\n                self._handlers[event_type] = []\n            \n            # Add handler with priority\n            self._handlers[event_type].append((priority, handler))\n            # Sort by priority (descending)\n            self._handlers[event_type].sort(key=lambda x: x[0], reverse=True)\n            \n            return handler\n        return decorator\n    \n    def register_handler(\n        self,\n        event_type: str,  # The event type to handle\n        handler: Callable,  # The handler function\n        priority: int = 0  # Handler priority (higher numbers run first)\n    ):\n        \"\"\"Register an update handler programmatically.\"\"\"\n        if event_type not in self._handlers:\n            self._handlers[event_type] = []\n        \n        self._handlers[event_type].append((priority, handler))\n        self._handlers[event_type].sort(key=lambda x: x[0], reverse=True)\n    \n    def set_default_handler(\n        self,\n        handler: Callable  # The default handler function\n    ):\n        \"\"\"Set a default handler for unregistered event types.\"\"\"\n        self._default_handler = handler\n    \n    def add_preprocessor(\n        self,\n        processor: Callable  # Function that processes (event_type, data) and returns modified data\n    ):\n        \"\"\"Add a preprocessor that runs before handlers.\"\"\"\n        self._preprocessors.append(processor)\n    \n    def add_postprocessor(\n        self,\n        processor: Callable  # Function that processes elements list and returns modified elements\n    ):\n        \"\"\"Add a postprocessor that runs after handlers.\"\"\"\n        self._postprocessors.append(processor)\n    \n    def create_elements(\n        self,\n        event_type: str,  # The type of event\n        data: Dict[str, Any]  # Event data\n    ) -> List[Any]:  # List of elements to be sent via SSE\n        \"\"\"Create elements for a given event type and data.\"\"\"\n        # Run preprocessors\n        processed_data = data\n        for processor in self._preprocessors:\n            processed_data = processor(event_type, processed_data)\n        \n        elements = []\n        \n        # Get handlers for this event type\n        handlers = self._handlers.get(event_type, [])\n        \n        if handlers:\n            # Run all registered handlers\n            for priority, handler in handlers:\n                result = handler(processed_data)\n                if result:\n                    if isinstance(result, list):\n                        elements.extend(result)\n                    else:\n                        elements.append(result)\n        elif self._default_handler:\n            # Use default handler if no specific handlers registered\n            result = self._default_handler(event_type, processed_data)\n            if result:\n                if isinstance(result, list):\n                    elements.extend(result)\n                else:\n                    elements.append(result)\n        \n        # Run postprocessors\n        for processor in self._postprocessors:\n            elements = processor(elements)\n        \n        return elements\n    \n    def clear_handlers(\n        self,\n        event_type: Optional[str] = None  # Optional specific event type to clear\n    ):\n        \"\"\"Clear handlers for a specific event type or all handlers.\"\"\"\n        if event_type:\n            self._handlers.pop(event_type, None)\n        else:\n            self._handlers.clear()\n    \n    def get_registered_events(\n        self\n    ) -> List[str]:  # List of event types with registered handlers\n        \"\"\"Get list of registered event types.\"\"\"\n        return list(self._handlers.keys())"
  },
  {
   "cell_type": "code",
   "execution_count": null,
   "id": "4f27b816-053b-4c03-a350-af9341df6ee3",
   "metadata": {},
   "outputs": [],
   "source": [
    "element_updater = SSEElementUpdater()"
   ]
  },
  {
   "cell_type": "code",
   "execution_count": null,
   "id": "efa7b04c-8e16-49dd-9698-36cfa026d54d",
   "metadata": {},
   "outputs": [],
   "source": []
  },
  {
   "cell_type": "code",
   "execution_count": null,
   "id": "15779d16-ba39-4616-9e34-3a30ce824182",
   "metadata": {},
   "outputs": [],
   "source": []
  },
  {
   "cell_type": "code",
   "execution_count": null,
   "id": "3508eee4-f2ca-4b3f-87a1-860e9504d83b",
   "metadata": {},
   "outputs": [],
   "source": []
  },
  {
   "cell_type": "code",
   "execution_count": null,
   "id": "1bf01ca2-ddfc-4c79-b869-2b3237f9d53a",
   "metadata": {},
   "outputs": [],
   "source": []
  },
  {
   "cell_type": "code",
   "execution_count": null,
   "id": "437a0e53-f428-47d0-a8b2-25cca318705b",
   "metadata": {},
   "outputs": [],
   "source": []
  },
  {
   "cell_type": "code",
   "execution_count": null,
   "id": "5da34163-a6d1-4655-9b5e-3b92dfaaab4f",
   "metadata": {},
   "outputs": [],
   "source": []
  },
  {
   "cell_type": "code",
   "execution_count": null,
   "id": "a9c1cf57-9531-4726-9955-1b9f9c9e5736",
   "metadata": {},
   "outputs": [],
   "source": []
  },
  {
   "cell_type": "code",
   "execution_count": null,
   "id": "50bcdecc-70be-4dde-8406-5de954573bdf",
   "metadata": {},
   "outputs": [],
   "source": []
  },
  {
   "cell_type": "code",
   "execution_count": null,
   "id": "5f1583db-f0e1-4718-8c6d-777077a87aa1",
   "metadata": {},
   "outputs": [],
   "source": []
  },
  {
   "cell_type": "code",
   "execution_count": null,
   "id": "de4760cf-37a4-474b-acef-afbf7624857a",
   "metadata": {},
   "outputs": [],
   "source": []
  },
  {
   "cell_type": "code",
   "execution_count": null,
   "id": "a8791cc9-9b1f-4291-aa8d-77ec30c6eaba",
   "metadata": {},
   "outputs": [],
   "source": []
  },
  {
   "cell_type": "code",
   "execution_count": null,
   "id": "94d37211-9bd4-46f7-81ae-e89734ea9c01",
   "metadata": {},
   "outputs": [],
   "source": []
  },
  {
   "cell_type": "code",
   "execution_count": null,
   "id": "c62f15eb-32fb-4d9c-a682-f86d64da68ef",
   "metadata": {},
   "outputs": [],
   "source": []
  },
  {
   "cell_type": "code",
   "execution_count": null,
   "id": "a5da6424-35dd-48e8-ae48-28c11689fae5",
   "metadata": {},
   "outputs": [],
   "source": []
  },
  {
   "cell_type": "code",
   "execution_count": null,
   "id": "5ec3a57b-5106-472b-a2c8-3fd73ea38579",
   "metadata": {},
   "outputs": [],
   "source": []
  },
  {
   "cell_type": "code",
   "execution_count": null,
   "id": "172030fa-cdd2-45f9-8085-0ad0f84f2caf",
   "metadata": {},
   "outputs": [],
   "source": []
  },
  {
   "cell_type": "code",
   "execution_count": null,
   "id": "b079ff3f-2363-4abd-9e77-aedbc70a6b10",
   "metadata": {},
   "outputs": [],
   "source": []
  },
  {
   "cell_type": "code",
   "execution_count": null,
   "id": "a0a58a54-3fd5-4969-9229-e66a2018d0a8",
   "metadata": {},
   "outputs": [],
   "source": []
  },
  {
   "cell_type": "code",
   "execution_count": null,
   "id": "57d95772-7d3d-494d-b974-289a5955a1db",
   "metadata": {},
   "outputs": [],
   "source": []
  },
  {
   "cell_type": "code",
   "execution_count": null,
   "id": "33266d7d-c181-42c4-9432-5697c09dd96d",
   "metadata": {},
   "outputs": [],
   "source": []
  },
  {
   "cell_type": "code",
   "execution_count": null,
   "id": "1a298d1f-d95b-44c5-a4f9-d1251bc06654",
   "metadata": {},
   "outputs": [],
   "source": []
  },
  {
   "cell_type": "code",
   "execution_count": null,
   "id": "1758b095-cefb-4343-8240-341e33b724fa",
   "metadata": {},
   "outputs": [],
   "source": []
  },
  {
   "cell_type": "code",
   "execution_count": null,
   "id": "53227976-7cc6-48fd-8bd6-650cb0c3b3b0",
   "metadata": {},
   "outputs": [],
   "source": []
  },
  {
   "cell_type": "code",
   "execution_count": null,
   "id": "47b1f873-5f7d-4ea7-86cf-cbebcf1bc5c3",
   "metadata": {},
   "outputs": [],
   "source": []
  },
  {
   "cell_type": "code",
   "execution_count": null,
   "id": "265883dd-3939-40c8-bf3e-5e16416e21bc",
   "metadata": {},
   "outputs": [],
   "source": [
    "#| hide\n",
    "import nbdev; nbdev.nbdev_export()"
   ]
  }
 ],
 "metadata": {
  "kernelspec": {
   "display_name": "python3",
   "language": "python",
   "name": "python3"
  }
 },
 "nbformat": 4,
 "nbformat_minor": 5
}
