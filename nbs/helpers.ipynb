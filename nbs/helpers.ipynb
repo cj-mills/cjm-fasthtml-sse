{
 "cells": [
  {
   "cell_type": "markdown",
   "id": "3265bd59-1e57-422a-be9e-ebd4c0c3facb",
   "metadata": {},
   "source": [
    "# UI helpers & utilities\n",
    "\n",
    "> Utility functions and decorators for common SSE patterns in FastHTML. Includes the @sse_element \n",
    "  decorator and helper functions for rapid SSE integration."
   ]
  },
  {
   "cell_type": "code",
   "execution_count": null,
   "id": "7172967d-ece5-45d8-a40c-2100d3f285be",
   "metadata": {},
   "outputs": [],
   "source": [
    "#| default_exp helpers"
   ]
  },
  {
   "cell_type": "code",
   "execution_count": null,
   "id": "2628bfb2-2dab-4d90-a0b6-6e0ec061ba33",
   "metadata": {},
   "outputs": [],
   "source": [
    "#| hide\n",
    "from nbdev.showdoc import *"
   ]
  },
  {
   "cell_type": "code",
   "execution_count": null,
   "id": "19ecbdf4-4bad-42c0-9ae5-8ad3e4224bbf",
   "metadata": {},
   "outputs": [],
   "source": [
    "#| export\n",
    "from typing import Any, Callable, List, Optional, Union\n",
    "\n",
    "from fasthtml.common import FT, Script"
   ]
  },
  {
   "cell_type": "code",
   "execution_count": null,
   "id": "2c399b23-5c05-45c5-919d-83cc1b85ff73",
   "metadata": {},
   "outputs": [],
   "source": "#| export\n# Helper function for creating OOB swap elements\ndef oob_swap(\n    element: Any,    # The element to add OOB swap to\n    swap_type: str = \"outerHTML\",  # Type of swap (innerHTML, outerHTML, beforebegin, afterend, etc.)\n    target_id: Optional[str] = None  # Optional target ID (uses element's ID if not specified)\n):\n    \"\"\"Add OOB swap attributes to an element.\"\"\"\n    if hasattr(element, 'attrs'):\n        element.attrs['hx-swap-oob'] = swap_type\n        if target_id:\n            element.attrs['hx-swap-oob'] = f\"{swap_type}:#{target_id}\"\n    return element"
  },
  {
   "cell_type": "code",
   "execution_count": null,
   "id": "66de51b4-f49b-4565-b869-cb8616e5f3da",
   "metadata": {},
   "outputs": [],
   "source": "#| export\ndef oob_element(\n    element_id: str,  # ID of the target element\n    content: Any,    # Content to swap\n    swap_type: str = \"innerHTML\"  # Type of swap\n):\n    \"\"\"Create a wrapper element for OOB swap.\"\"\"\n    return Div(\n        content,\n        id=element_id,\n        hx_swap_oob=swap_type\n    )"
  },
  {
   "cell_type": "code",
   "execution_count": null,
   "id": "5f95b465-6f11-456f-a4a9-7188ac0583e2",
   "metadata": {},
   "outputs": [],
   "source": "#| export\ndef sse_element(endpoint: str, \n                events: Optional[Union[str, List[str]]] = None, # Event name(s) to listen for from SSE stream\n                auto_close: bool = True,  # Whether to auto-close on completion\n                swap_type: str = \"message\" # How to swap content\n               ):\n    \"\"\"Decorator to add SSE capabilities to any element.\"\"\"\n    def decorator(\n        element_func: Callable  # Function that creates an element\n    ):\n        \"\"\"Inner decorator function.\"\"\"\n        def wrapper(*args, **kwargs):\n            \"\"\"Wrap element creation with SSE attributes.\"\"\"\n            # Create the base element\n            element = element_func(*args, **kwargs)\n            \n            # Add SSE attributes\n            return htmx_sse.add_sse_attrs(\n                element,\n                endpoint=endpoint,\n                events=events,\n                swap_type=swap_type,\n                auto_reconnect=not auto_close\n            )\n        return wrapper\n    return decorator"
  },
  {
   "cell_type": "code",
   "execution_count": null,
   "id": "efa7b04c-8e16-49dd-9698-36cfa026d54d",
   "metadata": {},
   "outputs": [],
   "source": [
    "#| export\n",
    "# Simplified OOB update function (already exists but making it more prominent)\n",
    "def oob_update(\n",
    "    element_id: str,  # Target element ID\n",
    "    content: Any,  # Content to swap\n",
    "    swap_type: str = \"innerHTML\"  # Type of swap (innerHTML, outerHTML, etc.)\n",
    "):\n",
    "    \"\"\"Create an out-of-band update element.\"\"\"\n",
    "    return oob_element(element_id, content, swap_type)"
   ]
  },
  {
   "cell_type": "code",
   "execution_count": null,
   "id": "735201cc-e2c0-447d-9ab5-2d963e89f245",
   "metadata": {},
   "outputs": [],
   "source": "#| export\ndef cleanup_sse_on_unload(\n) -> FT:  # FastHTML element (Script) for cleanup\n    \"\"\"Add script to cleanup SSE connections on page unload.\"\"\"\n    return Script(\"\"\"window.addEventListener('beforeunload',()=>{document.querySelectorAll('[sse-connect]').forEach(e=>{e['htmx-internal-data']?.sseEventSource?.close()});htmx?.findAll('[sse-connect]').forEach(e=>htmx.trigger(e,'htmx:sseClose'))});\"\"\")"
  },
  {
   "cell_type": "code",
   "execution_count": null,
   "id": "485121e9-a482-4f6e-a449-9a513d2837ab",
   "metadata": {},
   "outputs": [],
   "source": "#| export\n# \ndef get_htmx_idx(\n    hdrs: List  # List of header elements to search\n) -> int:  # Index of HTMX script or -1 if not found\n    \"\"\"Find the index of HTMX script in headers list.\"\"\"\n    return next((i for i, hdr in enumerate(hdrs) if (hdr.attrs.get('src') or '').endswith('htmx.min.js')), -1)"
  },
  {
   "cell_type": "code",
   "execution_count": null,
   "id": "15779d16-ba39-4616-9e34-3a30ce824182",
   "metadata": {},
   "outputs": [],
   "source": "#| export\ndef insert_htmx_sse_ext(\n    hdrs: List  # List of header elements to modify\n):\n    \"\"\"Add HTMX SSE extension after HTMX script\"\"\"\n    htmx_idx = get_htmx_idx(hdrs)\n    if htmx_idx >= 0:\n        # Insert SSE extension right after HTMX\n        hdrs.insert(htmx_idx+1, Script(src=\"https://unpkg.com/htmx-ext-sse\"))\n        hdrs.insert(htmx_idx+2, cleanup_sse_on_unload())\n    else:\n        print(\"HTMX not found\")"
  },
  {
   "cell_type": "code",
   "execution_count": null,
   "id": "3508eee4-f2ca-4b3f-87a1-860e9504d83b",
   "metadata": {},
   "outputs": [],
   "source": []
  },
  {
   "cell_type": "code",
   "execution_count": null,
   "id": "1bf01ca2-ddfc-4c79-b869-2b3237f9d53a",
   "metadata": {},
   "outputs": [],
   "source": []
  },
  {
   "cell_type": "code",
   "execution_count": null,
   "id": "437a0e53-f428-47d0-a8b2-25cca318705b",
   "metadata": {},
   "outputs": [],
   "source": []
  },
  {
   "cell_type": "code",
   "execution_count": null,
   "id": "5da34163-a6d1-4655-9b5e-3b92dfaaab4f",
   "metadata": {},
   "outputs": [],
   "source": []
  },
  {
   "cell_type": "code",
   "execution_count": null,
   "id": "a9c1cf57-9531-4726-9955-1b9f9c9e5736",
   "metadata": {},
   "outputs": [],
   "source": []
  },
  {
   "cell_type": "code",
   "execution_count": null,
   "id": "50bcdecc-70be-4dde-8406-5de954573bdf",
   "metadata": {},
   "outputs": [],
   "source": []
  },
  {
   "cell_type": "code",
   "execution_count": null,
   "id": "5f1583db-f0e1-4718-8c6d-777077a87aa1",
   "metadata": {},
   "outputs": [],
   "source": []
  },
  {
   "cell_type": "code",
   "execution_count": null,
   "id": "de4760cf-37a4-474b-acef-afbf7624857a",
   "metadata": {},
   "outputs": [],
   "source": []
  },
  {
   "cell_type": "code",
   "execution_count": null,
   "id": "a8791cc9-9b1f-4291-aa8d-77ec30c6eaba",
   "metadata": {},
   "outputs": [],
   "source": []
  },
  {
   "cell_type": "code",
   "execution_count": null,
   "id": "94d37211-9bd4-46f7-81ae-e89734ea9c01",
   "metadata": {},
   "outputs": [],
   "source": []
  },
  {
   "cell_type": "code",
   "execution_count": null,
   "id": "c62f15eb-32fb-4d9c-a682-f86d64da68ef",
   "metadata": {},
   "outputs": [],
   "source": []
  },
  {
   "cell_type": "code",
   "execution_count": null,
   "id": "a5da6424-35dd-48e8-ae48-28c11689fae5",
   "metadata": {},
   "outputs": [],
   "source": []
  },
  {
   "cell_type": "code",
   "execution_count": null,
   "id": "5ec3a57b-5106-472b-a2c8-3fd73ea38579",
   "metadata": {},
   "outputs": [],
   "source": []
  },
  {
   "cell_type": "code",
   "execution_count": null,
   "id": "172030fa-cdd2-45f9-8085-0ad0f84f2caf",
   "metadata": {},
   "outputs": [],
   "source": []
  },
  {
   "cell_type": "code",
   "execution_count": null,
   "id": "b079ff3f-2363-4abd-9e77-aedbc70a6b10",
   "metadata": {},
   "outputs": [],
   "source": []
  },
  {
   "cell_type": "code",
   "execution_count": null,
   "id": "a0a58a54-3fd5-4969-9229-e66a2018d0a8",
   "metadata": {},
   "outputs": [],
   "source": []
  },
  {
   "cell_type": "code",
   "execution_count": null,
   "id": "57d95772-7d3d-494d-b974-289a5955a1db",
   "metadata": {},
   "outputs": [],
   "source": []
  },
  {
   "cell_type": "code",
   "execution_count": null,
   "id": "33266d7d-c181-42c4-9432-5697c09dd96d",
   "metadata": {},
   "outputs": [],
   "source": []
  },
  {
   "cell_type": "code",
   "execution_count": null,
   "id": "1a298d1f-d95b-44c5-a4f9-d1251bc06654",
   "metadata": {},
   "outputs": [],
   "source": []
  },
  {
   "cell_type": "code",
   "execution_count": null,
   "id": "1758b095-cefb-4343-8240-341e33b724fa",
   "metadata": {},
   "outputs": [],
   "source": []
  },
  {
   "cell_type": "code",
   "execution_count": null,
   "id": "53227976-7cc6-48fd-8bd6-650cb0c3b3b0",
   "metadata": {},
   "outputs": [],
   "source": []
  },
  {
   "cell_type": "code",
   "execution_count": null,
   "id": "47b1f873-5f7d-4ea7-86cf-cbebcf1bc5c3",
   "metadata": {},
   "outputs": [],
   "source": []
  },
  {
   "cell_type": "code",
   "execution_count": null,
   "id": "265883dd-3939-40c8-bf3e-5e16416e21bc",
   "metadata": {},
   "outputs": [],
   "source": [
    "#| hide\n",
    "import nbdev; nbdev.nbdev_export()"
   ]
  }
 ],
 "metadata": {
  "kernelspec": {
   "display_name": "python3",
   "language": "python",
   "name": "python3"
  }
 },
 "nbformat": 4,
 "nbformat_minor": 5
}
