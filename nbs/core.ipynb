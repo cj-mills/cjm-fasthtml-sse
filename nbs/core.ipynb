{
 "cells": [
  {
   "cell_type": "markdown",
   "id": "4b828785-d7c7-448f-b5d2-afeef40c6d0b",
   "metadata": {},
   "source": [
    "# Core SSEBroadcastManager\n",
    "\n",
    "> Core SSE broadcast management system for FastHTML applications. Provides connection pooling, message distribution, and lifecycle hooks without UI dependencies."
   ]
  },
  {
   "cell_type": "code",
   "execution_count": null,
   "id": "7172967d-ece5-45d8-a40c-2100d3f285be",
   "metadata": {},
   "outputs": [],
   "source": [
    "#| default_exp core"
   ]
  },
  {
   "cell_type": "code",
   "execution_count": null,
   "id": "2628bfb2-2dab-4d90-a0b6-6e0ec061ba33",
   "metadata": {},
   "outputs": [],
   "source": [
    "#| hide\n",
    "from nbdev.showdoc import *"
   ]
  },
  {
   "cell_type": "code",
   "execution_count": null,
   "id": "a1e18a45-9133-4330-bf71-22ab01e0e8be",
   "metadata": {},
   "outputs": [],
   "source": [
    "#| export\n",
    "import asyncio\n",
    "from typing import Set, Dict, Any, Optional, Callable, Deque\n",
    "from collections import deque\n",
    "from datetime import datetime\n",
    "import json"
   ]
  },
  {
   "cell_type": "code",
   "execution_count": null,
   "id": "efa7b04c-8e16-49dd-9698-36cfa026d54d",
   "metadata": {},
   "outputs": [],
   "source": "#| export\nclass SSEBroadcastManager:\n    \"\"\"Manages SSE connections and broadcasting without UI dependencies.\"\"\"\n    \n    def __init__(self, \n                 max_queue_size: int = 100,    # Maximum number of messages per connection queue\n                 history_size: int = 50,    # Number of broadcast messages to keep in history\n                 default_timeout: float = 0.1   # Default timeout in seconds for queue operations\n                ):\n        \"\"\"Initialize the broadcast manager with connection pooling and message history.\"\"\"\n        self.connections: Set[asyncio.Queue] = set()\n        self.lock = asyncio.Lock()\n        self.history: Deque[Dict[str, Any]] = deque(maxlen=history_size)\n        self.max_queue_size = max_queue_size\n        self.default_timeout = default_timeout\n        \n        # Event hooks for extensibility\n        self._on_connect_hooks: list[Callable] = []\n        self._on_disconnect_hooks: list[Callable] = []\n        self._on_broadcast_hooks: list[Callable] = []\n    \n    async def register_connection(\n        self,\n        queue: Optional[asyncio.Queue] = None  # Optional pre-existing queue, creates new one if not provided\n    ) -> asyncio.Queue:  # The queue associated with this connection\n        \"\"\"Register a new SSE connection.\"\"\"\n        if queue is None:\n            queue = asyncio.Queue(maxsize=self.max_queue_size)\n        \n        async with self.lock:\n            self.connections.add(queue)\n            \n        # Call connection hooks\n        for hook in self._on_connect_hooks:\n            try:\n                await hook(queue) if asyncio.iscoroutinefunction(hook) else hook(queue)\n            except Exception as e:\n                print(f\"Error in connection hook: {e}\")\n        \n        return queue\n    \n    async def unregister_connection(\n        self,\n        queue: asyncio.Queue  # The queue to unregister\n    ):\n        \"\"\"Unregister an SSE connection.\"\"\"\n        async with self.lock:\n            self.connections.discard(queue)\n        \n        # Call disconnection hooks\n        for hook in self._on_disconnect_hooks:\n            try:\n                await hook(queue) if asyncio.iscoroutinefunction(hook) else hook(queue)\n            except Exception as e:\n                print(f\"Error in disconnection hook: {e}\")\n    \n    async def broadcast(self, \n                       event_type: str,   # Type of event being broadcast\n                       data: Dict[str, Any], # Data to broadcast\n                       timeout: Optional[float] = None # Optional timeout override for this broadcast\n                       ) -> int: # Number of successfully notified connections\n        \"\"\"Broadcast a message to all connected clients.\"\"\"\n        message = {\n            \"type\": event_type,\n            \"timestamp\": datetime.now().isoformat(),\n            \"data\": data\n        }\n        \n        # Store in history\n        self.history.append(message)\n        \n        # Call broadcast hooks\n        for hook in self._on_broadcast_hooks:\n            try:\n                result = await hook(message) if asyncio.iscoroutinefunction(hook) else hook(message)\n                # Allow hooks to modify the message\n                if isinstance(result, dict):\n                    message = result\n            except Exception as e:\n                print(f\"Error in broadcast hook: {e}\")\n        \n        # Broadcast to all connections\n        timeout = timeout or self.default_timeout\n        successful_sends = 0\n        \n        async with self.lock:\n            disconnected = set()\n            \n            for queue in self.connections:\n                try:\n                    await asyncio.wait_for(queue.put(message), timeout=timeout)\n                    successful_sends += 1\n                except (asyncio.TimeoutError, asyncio.QueueFull):\n                    disconnected.add(queue)\n                except Exception as e:\n                    print(f\"Error broadcasting to connection: {e}\")\n                    disconnected.add(queue)\n            \n            # Remove disconnected clients\n            for queue in disconnected:\n                self.connections.discard(queue)\n        \n        return successful_sends\n    \n    def on_connect(\n        self,\n        callback: Callable  # Function to call when a new connection is registered\n    ):\n        \"\"\"Register a callback for new connections.\"\"\"\n        self._on_connect_hooks.append(callback)\n        return callback\n    \n    def on_disconnect(\n        self,\n        callback: Callable  # Function to call when a connection is unregistered\n    ):\n        \"\"\"Register a callback for disconnections.\"\"\"\n        self._on_disconnect_hooks.append(callback)\n        return callback\n    \n    def on_broadcast(\n        self,\n        callback: Callable  # Function to call before broadcasting (can modify messages)\n    ):\n        \"\"\"Register a callback for broadcasts (can modify messages).\"\"\"\n        self._on_broadcast_hooks.append(callback)\n        return callback\n    \n    @property\n    def connection_count(\n        self\n    ) -> int:  # Number of active connections\n        \"\"\"Get the current number of active connections.\"\"\"\n        return len(self.connections)\n    \n    def get_history(\n        self,\n        limit: Optional[int] = None  # Optional limit on number of messages to return\n    ) -> list[Dict[str, Any]]:  # List of historical broadcast messages\n        \"\"\"Get broadcast history.\"\"\"\n        if limit:\n            return list(self.history)[-limit:]\n        return list(self.history)"
  },
  {
   "cell_type": "code",
   "execution_count": null,
   "id": "15779d16-ba39-4616-9e34-3a30ce824182",
   "metadata": {},
   "outputs": [],
   "source": [
    "# Initialize the SSE Broadcast Manager\n",
    "sse_manager = SSEBroadcastManager(\n",
    "    max_queue_size=100,\n",
    "    history_size=50,\n",
    "    default_timeout=0.1\n",
    ")"
   ]
  },
  {
   "cell_type": "code",
   "execution_count": null,
   "id": "3508eee4-f2ca-4b3f-87a1-860e9504d83b",
   "metadata": {},
   "outputs": [],
   "source": []
  },
  {
   "cell_type": "code",
   "execution_count": null,
   "id": "1bf01ca2-ddfc-4c79-b869-2b3237f9d53a",
   "metadata": {},
   "outputs": [],
   "source": []
  },
  {
   "cell_type": "code",
   "execution_count": null,
   "id": "437a0e53-f428-47d0-a8b2-25cca318705b",
   "metadata": {},
   "outputs": [],
   "source": []
  },
  {
   "cell_type": "code",
   "execution_count": null,
   "id": "5da34163-a6d1-4655-9b5e-3b92dfaaab4f",
   "metadata": {},
   "outputs": [],
   "source": []
  },
  {
   "cell_type": "code",
   "execution_count": null,
   "id": "a9c1cf57-9531-4726-9955-1b9f9c9e5736",
   "metadata": {},
   "outputs": [],
   "source": []
  },
  {
   "cell_type": "code",
   "execution_count": null,
   "id": "50bcdecc-70be-4dde-8406-5de954573bdf",
   "metadata": {},
   "outputs": [],
   "source": []
  },
  {
   "cell_type": "code",
   "execution_count": null,
   "id": "5f1583db-f0e1-4718-8c6d-777077a87aa1",
   "metadata": {},
   "outputs": [],
   "source": []
  },
  {
   "cell_type": "code",
   "execution_count": null,
   "id": "de4760cf-37a4-474b-acef-afbf7624857a",
   "metadata": {},
   "outputs": [],
   "source": []
  },
  {
   "cell_type": "code",
   "execution_count": null,
   "id": "a8791cc9-9b1f-4291-aa8d-77ec30c6eaba",
   "metadata": {},
   "outputs": [],
   "source": []
  },
  {
   "cell_type": "code",
   "execution_count": null,
   "id": "94d37211-9bd4-46f7-81ae-e89734ea9c01",
   "metadata": {},
   "outputs": [],
   "source": []
  },
  {
   "cell_type": "code",
   "execution_count": null,
   "id": "c62f15eb-32fb-4d9c-a682-f86d64da68ef",
   "metadata": {},
   "outputs": [],
   "source": []
  },
  {
   "cell_type": "code",
   "execution_count": null,
   "id": "a5da6424-35dd-48e8-ae48-28c11689fae5",
   "metadata": {},
   "outputs": [],
   "source": []
  },
  {
   "cell_type": "code",
   "execution_count": null,
   "id": "5ec3a57b-5106-472b-a2c8-3fd73ea38579",
   "metadata": {},
   "outputs": [],
   "source": []
  },
  {
   "cell_type": "code",
   "execution_count": null,
   "id": "172030fa-cdd2-45f9-8085-0ad0f84f2caf",
   "metadata": {},
   "outputs": [],
   "source": []
  },
  {
   "cell_type": "code",
   "execution_count": null,
   "id": "b079ff3f-2363-4abd-9e77-aedbc70a6b10",
   "metadata": {},
   "outputs": [],
   "source": []
  },
  {
   "cell_type": "code",
   "execution_count": null,
   "id": "a0a58a54-3fd5-4969-9229-e66a2018d0a8",
   "metadata": {},
   "outputs": [],
   "source": []
  },
  {
   "cell_type": "code",
   "execution_count": null,
   "id": "57d95772-7d3d-494d-b974-289a5955a1db",
   "metadata": {},
   "outputs": [],
   "source": []
  },
  {
   "cell_type": "code",
   "execution_count": null,
   "id": "33266d7d-c181-42c4-9432-5697c09dd96d",
   "metadata": {},
   "outputs": [],
   "source": []
  },
  {
   "cell_type": "code",
   "execution_count": null,
   "id": "1a298d1f-d95b-44c5-a4f9-d1251bc06654",
   "metadata": {},
   "outputs": [],
   "source": []
  },
  {
   "cell_type": "code",
   "execution_count": null,
   "id": "1758b095-cefb-4343-8240-341e33b724fa",
   "metadata": {},
   "outputs": [],
   "source": []
  },
  {
   "cell_type": "code",
   "execution_count": null,
   "id": "53227976-7cc6-48fd-8bd6-650cb0c3b3b0",
   "metadata": {},
   "outputs": [],
   "source": []
  },
  {
   "cell_type": "code",
   "execution_count": null,
   "id": "47b1f873-5f7d-4ea7-86cf-cbebcf1bc5c3",
   "metadata": {},
   "outputs": [],
   "source": []
  },
  {
   "cell_type": "code",
   "execution_count": null,
   "id": "265883dd-3939-40c8-bf3e-5e16416e21bc",
   "metadata": {},
   "outputs": [],
   "source": [
    "#| hide\n",
    "import nbdev; nbdev.nbdev_export()"
   ]
  }
 ],
 "metadata": {
  "kernelspec": {
   "display_name": "python3",
   "language": "python",
   "name": "python3"
  }
 },
 "nbformat": 4,
 "nbformat_minor": 5
}
