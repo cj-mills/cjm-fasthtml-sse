{
 "cells": [
  {
   "cell_type": "markdown",
   "id": "b31b6f9f-2d64-415c-9fea-6d3dbe215786",
   "metadata": {},
   "source": [
    "# SSEEventDispatcher\n",
    "\n",
    "> Event routing system with namespace support, pattern matching, and middleware pipeline. Enables decoupled event handling with priority-based execution and wildcard routing."
   ]
  },
  {
   "cell_type": "code",
   "execution_count": null,
   "id": "7172967d-ece5-45d8-a40c-2100d3f285be",
   "metadata": {},
   "outputs": [],
   "source": [
    "#| default_exp dispatcher"
   ]
  },
  {
   "cell_type": "code",
   "execution_count": null,
   "id": "2628bfb2-2dab-4d90-a0b6-6e0ec061ba33",
   "metadata": {},
   "outputs": [],
   "source": [
    "#| hide\n",
    "from nbdev.showdoc import *"
   ]
  },
  {
   "cell_type": "code",
   "execution_count": null,
   "id": "4a29b270-ddf4-46f4-bce9-3bc4e210039e",
   "metadata": {},
   "outputs": [],
   "source": [
    "#| export\n",
    "import asyncio\n",
    "from typing import Callable, Dict, Any, List, Optional, Set, Union\n",
    "from dataclasses import dataclass\n",
    "import re"
   ]
  },
  {
   "cell_type": "code",
   "execution_count": null,
   "id": "50324f9f-dfe2-45ee-8d86-981ae8db1023",
   "metadata": {},
   "outputs": [],
   "source": [
    "#| export\n",
    "@dataclass\n",
    "class SSEEvent:\n",
    "    \"\"\"Represents an SSE event with metadata.\"\"\"\n",
    "    type: str\n",
    "    data: Dict[str, Any]\n",
    "    namespace: Optional[str] = None\n",
    "    priority: int = 0\n",
    "    timestamp: Optional[str] = None\n",
    "    \n",
    "    @property\n",
    "    def full_type(self):\n",
    "        \"\"\"Get the full event type including namespace.\"\"\"\n",
    "        if self.namespace:\n",
    "            return f\"{self.namespace}:{self.type}\"\n",
    "        return self.type"
   ]
  },
  {
   "cell_type": "code",
   "execution_count": null,
   "id": "7ecfb98f-33a8-42b2-8c94-08e8fad558fe",
   "metadata": {},
   "outputs": [],
   "source": "#| export\nclass SSEEventDispatcher:\n    \"\"\"\n    Decoupled event routing system with namespace support,\n    middleware, filtering, and priority-based handling.\n    \"\"\"\n    \n    def __init__(self):\n        \"\"\"Initialize the SSE Event Dispatcher.\"\"\"\n        self._handlers: Dict[str, List[tuple[int, Callable]]] = {}\n        self._middleware: List[Callable] = []\n        self._filters: List[Callable] = []\n        self._transformers: List[Callable] = []\n        self._namespaces: Set[str] = set()\n        \n    def register_namespace(\n        self,\n        namespace: str  # Namespace name to register for event organization\n    ):\n        \"\"\"Register a namespace for event organization.\"\"\"\n        self._namespaces.add(namespace)\n        \n    def on(\n        self,\n        event_pattern: str,  # Event pattern (supports wildcards: *, **)\n        priority: int = 0  # Handler priority (higher runs first)\n    ):\n        \"\"\"\n        Decorator to register an event handler with pattern matching.\n        \"\"\"\n        def decorator(\n            handler: Callable  # Event handler function to register\n        ):\n            \"\"\"Register the handler and return it unchanged.\"\"\"\n            self.add_handler(event_pattern, handler, priority)\n            return handler\n        return decorator\n    \n    def add_handler(\n        self,\n        event_pattern: str,  # Event pattern (e.g., \"job:*\", \"**:completed\")\n        handler: Callable,  # Handler function\n        priority: int = 0  # Handler priority\n    ):\n        \"\"\"\n        Add an event handler with pattern matching support.\n        \"\"\"\n        if event_pattern not in self._handlers:\n            self._handlers[event_pattern] = []\n        \n        self._handlers[event_pattern].append((priority, handler))\n        self._handlers[event_pattern].sort(key=lambda x: x[0], reverse=True)\n    \n    def add_middleware(\n        self,\n        middleware: Callable  # Function that takes (event, next) and calls next(event)\n    ):\n        \"\"\"\n        Add middleware that processes events before handlers.\n        \"\"\"\n        self._middleware.append(middleware)\n    \n    def add_filter(\n        self,\n        filter_func: Callable[[SSEEvent], bool]  # Function that returns True to process event\n    ):\n        \"\"\"\n        Add a filter to control which events are processed.\n        \"\"\"\n        self._filters.append(filter_func)\n    \n    def add_transformer(\n        self,\n        transformer: Callable[[SSEEvent], SSEEvent]  # Function that transforms an event\n    ):\n        \"\"\"\n        Add a transformer to modify events before processing.\n        \"\"\"\n        self._transformers.append(transformer)\n    \n    def _match_pattern(\n        self,\n        pattern: str,  # Pattern to match against (supports wildcards)\n        event_type: str  # Event type string to test\n    ) -> bool:  # True if pattern matches event type\n        \"\"\"\n        Check if an event type matches a pattern.\n        \n        Patterns:\n        - exact: \"job:created\" matches only \"job:created\"\n        - wildcard: \"job:*\" matches \"job:created\", \"job:updated\", etc.\n        - deep wildcard: \"**:created\" matches any namespace with \"created\"\n        - full wildcard: \"*\" matches everything\n        \"\"\"\n        if pattern == \"*\" or pattern == \"**\":\n            return True\n            \n        # Convert pattern to regex\n        regex_pattern = pattern.replace(\"**\", \".*\").replace(\"*\", \"[^:]*\")\n        regex_pattern = f\"^{regex_pattern}$\"\n        \n        return bool(re.match(regex_pattern, event_type))\n    \n    async def dispatch(\n        self,\n        event: Union[SSEEvent, Dict[str, Any]]  # Event to dispatch (SSEEvent or dict)\n    ) -> List[Any]:  # List of handler results\n        \"\"\"\n        Dispatch an event through the processing pipeline.            \n        \"\"\"\n        # Convert dict to SSEEvent if needed\n        if isinstance(event, dict):\n            event = SSEEvent(\n                type=event.get(\"type\", \"unknown\"),\n                data=event.get(\"data\", {}),\n                namespace=event.get(\"namespace\"),\n                priority=event.get(\"priority\", 0),\n                timestamp=event.get(\"timestamp\")\n            )\n        \n        # Apply filters\n        for filter_func in self._filters:\n            if not filter_func(event):\n                return []  # Event filtered out\n        \n        # Apply transformers\n        for transformer in self._transformers:\n            event = transformer(event)\n        \n        # Process through middleware chain\n        async def process_event(\n            evt: SSEEvent  # Event to process through handlers\n        ):\n            \"\"\"Process event through all matching handlers.\"\"\"\n            results = []\n            \n            # Find matching handlers\n            for pattern, handlers in self._handlers.items():\n                if self._match_pattern(pattern, evt.full_type):\n                    for priority, handler in handlers:\n                        if asyncio.iscoroutinefunction(handler):\n                            result = await handler(evt)\n                        else:\n                            result = handler(evt)\n                        if result:\n                            results.append(result)\n            \n            return results\n        \n        # Apply middleware\n        current_processor = process_event\n        for middleware in reversed(self._middleware):\n            next_processor = current_processor\n            async def wrapped_processor(\n                evt: SSEEvent,  # Event to process\n                next_proc: Callable = next_processor  # Next processor in chain\n            ):\n                \"\"\"Apply middleware and call next processor.\"\"\"\n                if asyncio.iscoroutinefunction(middleware):\n                    return await middleware(evt, next_proc)\n                else:\n                    return middleware(evt, lambda e: asyncio.create_task(next_proc(e)))\n            current_processor = wrapped_processor\n        \n        return await current_processor(event)\n    \n    def clear_handlers(\n        self,\n        pattern: Optional[str] = None  # Specific pattern to clear, or None for all\n    ):\n        \"\"\"Clear handlers for a specific pattern or all handlers.\"\"\"\n        if pattern:\n            self._handlers.pop(pattern, None)\n        else:\n            self._handlers.clear()"
  },
  {
   "cell_type": "code",
   "execution_count": null,
   "id": "baae7135-f474-4f9a-a15b-41bbc1e54575",
   "metadata": {},
   "outputs": [],
   "source": [
    "event_dispatcher = SSEEventDispatcher()"
   ]
  },
  {
   "cell_type": "code",
   "execution_count": null,
   "id": "15779d16-ba39-4616-9e34-3a30ce824182",
   "metadata": {},
   "outputs": [],
   "source": []
  },
  {
   "cell_type": "code",
   "execution_count": null,
   "id": "3508eee4-f2ca-4b3f-87a1-860e9504d83b",
   "metadata": {},
   "outputs": [],
   "source": []
  },
  {
   "cell_type": "code",
   "execution_count": null,
   "id": "1bf01ca2-ddfc-4c79-b869-2b3237f9d53a",
   "metadata": {},
   "outputs": [],
   "source": []
  },
  {
   "cell_type": "code",
   "execution_count": null,
   "id": "437a0e53-f428-47d0-a8b2-25cca318705b",
   "metadata": {},
   "outputs": [],
   "source": []
  },
  {
   "cell_type": "code",
   "execution_count": null,
   "id": "5da34163-a6d1-4655-9b5e-3b92dfaaab4f",
   "metadata": {},
   "outputs": [],
   "source": []
  },
  {
   "cell_type": "code",
   "execution_count": null,
   "id": "a9c1cf57-9531-4726-9955-1b9f9c9e5736",
   "metadata": {},
   "outputs": [],
   "source": []
  },
  {
   "cell_type": "code",
   "execution_count": null,
   "id": "50bcdecc-70be-4dde-8406-5de954573bdf",
   "metadata": {},
   "outputs": [],
   "source": []
  },
  {
   "cell_type": "code",
   "execution_count": null,
   "id": "5f1583db-f0e1-4718-8c6d-777077a87aa1",
   "metadata": {},
   "outputs": [],
   "source": []
  },
  {
   "cell_type": "code",
   "execution_count": null,
   "id": "de4760cf-37a4-474b-acef-afbf7624857a",
   "metadata": {},
   "outputs": [],
   "source": []
  },
  {
   "cell_type": "code",
   "execution_count": null,
   "id": "a8791cc9-9b1f-4291-aa8d-77ec30c6eaba",
   "metadata": {},
   "outputs": [],
   "source": []
  },
  {
   "cell_type": "code",
   "execution_count": null,
   "id": "94d37211-9bd4-46f7-81ae-e89734ea9c01",
   "metadata": {},
   "outputs": [],
   "source": []
  },
  {
   "cell_type": "code",
   "execution_count": null,
   "id": "c62f15eb-32fb-4d9c-a682-f86d64da68ef",
   "metadata": {},
   "outputs": [],
   "source": []
  },
  {
   "cell_type": "code",
   "execution_count": null,
   "id": "a5da6424-35dd-48e8-ae48-28c11689fae5",
   "metadata": {},
   "outputs": [],
   "source": []
  },
  {
   "cell_type": "code",
   "execution_count": null,
   "id": "5ec3a57b-5106-472b-a2c8-3fd73ea38579",
   "metadata": {},
   "outputs": [],
   "source": []
  },
  {
   "cell_type": "code",
   "execution_count": null,
   "id": "172030fa-cdd2-45f9-8085-0ad0f84f2caf",
   "metadata": {},
   "outputs": [],
   "source": []
  },
  {
   "cell_type": "code",
   "execution_count": null,
   "id": "b079ff3f-2363-4abd-9e77-aedbc70a6b10",
   "metadata": {},
   "outputs": [],
   "source": []
  },
  {
   "cell_type": "code",
   "execution_count": null,
   "id": "a0a58a54-3fd5-4969-9229-e66a2018d0a8",
   "metadata": {},
   "outputs": [],
   "source": []
  },
  {
   "cell_type": "code",
   "execution_count": null,
   "id": "57d95772-7d3d-494d-b974-289a5955a1db",
   "metadata": {},
   "outputs": [],
   "source": []
  },
  {
   "cell_type": "code",
   "execution_count": null,
   "id": "33266d7d-c181-42c4-9432-5697c09dd96d",
   "metadata": {},
   "outputs": [],
   "source": []
  },
  {
   "cell_type": "code",
   "execution_count": null,
   "id": "1a298d1f-d95b-44c5-a4f9-d1251bc06654",
   "metadata": {},
   "outputs": [],
   "source": []
  },
  {
   "cell_type": "code",
   "execution_count": null,
   "id": "1758b095-cefb-4343-8240-341e33b724fa",
   "metadata": {},
   "outputs": [],
   "source": []
  },
  {
   "cell_type": "code",
   "execution_count": null,
   "id": "53227976-7cc6-48fd-8bd6-650cb0c3b3b0",
   "metadata": {},
   "outputs": [],
   "source": []
  },
  {
   "cell_type": "code",
   "execution_count": null,
   "id": "47b1f873-5f7d-4ea7-86cf-cbebcf1bc5c3",
   "metadata": {},
   "outputs": [],
   "source": []
  },
  {
   "cell_type": "code",
   "execution_count": null,
   "id": "265883dd-3939-40c8-bf3e-5e16416e21bc",
   "metadata": {},
   "outputs": [],
   "source": [
    "#| hide\n",
    "import nbdev; nbdev.nbdev_export()"
   ]
  }
 ],
 "metadata": {
  "kernelspec": {
   "display_name": "python3",
   "language": "python",
   "name": "python3"
  }
 },
 "nbformat": 4,
 "nbformat_minor": 5
}
