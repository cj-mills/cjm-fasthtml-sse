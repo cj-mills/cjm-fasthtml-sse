{
 "cells": [
  {
   "cell_type": "markdown",
   "id": "328729df-383a-4d4d-90f1-30e9b31d681b",
   "metadata": {},
   "source": [
    "# SSEShutdownHandler\n",
    "\n",
    "> Handles graceful shutdown of SSE connections when the server exits."
   ]
  },
  {
   "cell_type": "code",
   "execution_count": null,
   "id": "7172967d-ece5-45d8-a40c-2100d3f285be",
   "metadata": {},
   "outputs": [],
   "source": [
    "#| default_exp shutdown"
   ]
  },
  {
   "cell_type": "code",
   "execution_count": null,
   "id": "2628bfb2-2dab-4d90-a0b6-6e0ec061ba33",
   "metadata": {},
   "outputs": [],
   "source": [
    "#| hide\n",
    "from nbdev.showdoc import *"
   ]
  },
  {
   "cell_type": "code",
   "execution_count": null,
   "id": "f8ae47dd-409a-48a3-9bec-9ac63e29bd82",
   "metadata": {},
   "outputs": [],
   "source": [
    "#| export\n",
    "from uvicorn.main import Server\n",
    "import asyncio\n",
    "import time\n",
    "from datetime import datetime\n",
    "from typing import Set, Optional"
   ]
  },
  {
   "cell_type": "code",
   "execution_count": null,
   "id": "68d04751-0b74-4d97-bc33-65ffe68ce272",
   "metadata": {},
   "outputs": [],
   "source": [
    "#| export\n",
    "class SSEShutdownHandler:\n",
    "  \"\"\"\n",
    "  Handles graceful shutdown of SSE connections when the server exits, \n",
    "  by ensuring all SSE clients receive a shutdown notification before \n",
    "  the server terminates, allowing them to cleanly close connections \n",
    "  without attempting reconnection.\n",
    "  \"\"\"\n",
    "\n",
    "  def __init__(self, sse_manager, shutdown_delay: float = 1.0):\n",
    "      self.sse_manager = sse_manager\n",
    "      self.shutdown_delay = shutdown_delay\n",
    "      self.should_exit = False\n",
    "      self.active_connections: Set = set()\n",
    "      self.shutdown_event = asyncio.Event()\n",
    "      self._original_handler = None\n",
    "\n",
    "  def install(self):\n",
    "      \"\"\"Install the shutdown handler into Uvicorn's Server class.\"\"\"\n",
    "      self._original_handler = Server.handle_exit\n",
    "      Server.handle_exit = self._handle_exit\n",
    "\n",
    "  def uninstall(self):\n",
    "      \"\"\"Restore the original Uvicorn handler.\"\"\"\n",
    "      if self._original_handler:\n",
    "          Server.handle_exit = self._original_handler\n",
    "\n",
    "  def _handle_exit(self, *args, **kwargs):\n",
    "      \"\"\"Custom exit handler that notifies SSE clients before shutdown.\"\"\"\n",
    "      print(\"\\nInitiating graceful SSE shutdown...\")\n",
    "      self.should_exit = True\n",
    "      self.shutdown_event.set()\n",
    "\n",
    "      # Send shutdown message directly to all SSE connection queues\n",
    "      try:\n",
    "          print(f\"Notifying {self.sse_manager.connection_count} SSE connections...\")\n",
    "\n",
    "          shutdown_message = {\n",
    "              \"type\": \"shutdown\",\n",
    "              \"timestamp\": datetime.now().isoformat(),\n",
    "              \"data\": {\"message\": \"Server shutting down\"}\n",
    "          }\n",
    "\n",
    "          # Send directly to all connection queues\n",
    "          for queue in list(self.sse_manager.connections):\n",
    "              try:\n",
    "                  queue.put_nowait(shutdown_message)\n",
    "              except asyncio.QueueFull:\n",
    "                  print(\"Queue full, couldn't send shutdown message\")\n",
    "              except Exception as e:\n",
    "                  print(f\"Error sending shutdown to queue: {e}\")\n",
    "\n",
    "          print(f\"Sent shutdown message to {len(self.sse_manager.connections)} connections\")\n",
    "\n",
    "          # Allow time for clients to process shutdown messages\n",
    "          time.sleep(self.shutdown_delay)\n",
    "\n",
    "      except Exception as e:\n",
    "          print(f\"Error during SSE shutdown: {e}\")\n",
    "\n",
    "      # Clean up active connections\n",
    "      self._cleanup_connections()\n",
    "\n",
    "      # Call original handler\n",
    "      if self._original_handler:\n",
    "          self._original_handler(*args, **kwargs)\n",
    "\n",
    "  def _cleanup_connections(self):\n",
    "      \"\"\"Cancel any remaining active connections.\"\"\"\n",
    "      if self.active_connections:\n",
    "          print(f\"Closing {len(self.active_connections)} active connections...\")\n",
    "          for connection in list(self.active_connections):\n",
    "              try:\n",
    "                  connection.cancel()\n",
    "              except Exception as e:\n",
    "                  print(f\"Error closing connection: {e}\")\n",
    "          self.active_connections.clear()\n",
    "\n",
    "  def track_connection(self, task):\n",
    "      \"\"\"Track an active connection task.\"\"\"\n",
    "      self.active_connections.add(task)\n",
    "\n",
    "  def untrack_connection(self, task):\n",
    "      \"\"\"Remove a connection task from tracking.\"\"\"\n",
    "      self.active_connections.discard(task)"
   ]
  },
  {
   "cell_type": "code",
   "execution_count": null,
   "id": "efa7b04c-8e16-49dd-9698-36cfa026d54d",
   "metadata": {},
   "outputs": [],
   "source": [
    "from cjm_fasthtml_sse.core import SSEBroadcastManager\n",
    "\n",
    "# Initialize the SSE Broadcast Manager\n",
    "sse_manager = SSEBroadcastManager(\n",
    "    max_queue_size=100,\n",
    "    history_size=50,\n",
    "    default_timeout=0.1\n",
    ")\n",
    "\n",
    "# Initialize the SSEShutdownHandler\n",
    "shutdown_handler = SSEShutdownHandler(sse_manager)"
   ]
  },
  {
   "cell_type": "code",
   "execution_count": null,
   "id": "5da34163-a6d1-4655-9b5e-3b92dfaaab4f",
   "metadata": {},
   "outputs": [],
   "source": []
  },
  {
   "cell_type": "code",
   "execution_count": null,
   "id": "a9c1cf57-9531-4726-9955-1b9f9c9e5736",
   "metadata": {},
   "outputs": [],
   "source": []
  },
  {
   "cell_type": "code",
   "execution_count": null,
   "id": "50bcdecc-70be-4dde-8406-5de954573bdf",
   "metadata": {},
   "outputs": [],
   "source": []
  },
  {
   "cell_type": "code",
   "execution_count": null,
   "id": "5f1583db-f0e1-4718-8c6d-777077a87aa1",
   "metadata": {},
   "outputs": [],
   "source": []
  },
  {
   "cell_type": "code",
   "execution_count": null,
   "id": "de4760cf-37a4-474b-acef-afbf7624857a",
   "metadata": {},
   "outputs": [],
   "source": []
  },
  {
   "cell_type": "code",
   "execution_count": null,
   "id": "a8791cc9-9b1f-4291-aa8d-77ec30c6eaba",
   "metadata": {},
   "outputs": [],
   "source": []
  },
  {
   "cell_type": "code",
   "execution_count": null,
   "id": "94d37211-9bd4-46f7-81ae-e89734ea9c01",
   "metadata": {},
   "outputs": [],
   "source": []
  },
  {
   "cell_type": "code",
   "execution_count": null,
   "id": "c62f15eb-32fb-4d9c-a682-f86d64da68ef",
   "metadata": {},
   "outputs": [],
   "source": []
  },
  {
   "cell_type": "code",
   "execution_count": null,
   "id": "a5da6424-35dd-48e8-ae48-28c11689fae5",
   "metadata": {},
   "outputs": [],
   "source": []
  },
  {
   "cell_type": "code",
   "execution_count": null,
   "id": "5ec3a57b-5106-472b-a2c8-3fd73ea38579",
   "metadata": {},
   "outputs": [],
   "source": []
  },
  {
   "cell_type": "code",
   "execution_count": null,
   "id": "172030fa-cdd2-45f9-8085-0ad0f84f2caf",
   "metadata": {},
   "outputs": [],
   "source": []
  },
  {
   "cell_type": "code",
   "execution_count": null,
   "id": "b079ff3f-2363-4abd-9e77-aedbc70a6b10",
   "metadata": {},
   "outputs": [],
   "source": []
  },
  {
   "cell_type": "code",
   "execution_count": null,
   "id": "a0a58a54-3fd5-4969-9229-e66a2018d0a8",
   "metadata": {},
   "outputs": [],
   "source": []
  },
  {
   "cell_type": "code",
   "execution_count": null,
   "id": "57d95772-7d3d-494d-b974-289a5955a1db",
   "metadata": {},
   "outputs": [],
   "source": []
  },
  {
   "cell_type": "code",
   "execution_count": null,
   "id": "33266d7d-c181-42c4-9432-5697c09dd96d",
   "metadata": {},
   "outputs": [],
   "source": []
  },
  {
   "cell_type": "code",
   "execution_count": null,
   "id": "1a298d1f-d95b-44c5-a4f9-d1251bc06654",
   "metadata": {},
   "outputs": [],
   "source": []
  },
  {
   "cell_type": "code",
   "execution_count": null,
   "id": "1758b095-cefb-4343-8240-341e33b724fa",
   "metadata": {},
   "outputs": [],
   "source": []
  },
  {
   "cell_type": "code",
   "execution_count": null,
   "id": "53227976-7cc6-48fd-8bd6-650cb0c3b3b0",
   "metadata": {},
   "outputs": [],
   "source": []
  },
  {
   "cell_type": "code",
   "execution_count": null,
   "id": "47b1f873-5f7d-4ea7-86cf-cbebcf1bc5c3",
   "metadata": {},
   "outputs": [],
   "source": []
  },
  {
   "cell_type": "code",
   "execution_count": null,
   "id": "265883dd-3939-40c8-bf3e-5e16416e21bc",
   "metadata": {},
   "outputs": [],
   "source": [
    "#| hide\n",
    "import nbdev; nbdev.nbdev_export()"
   ]
  }
 ],
 "metadata": {
  "kernelspec": {
   "display_name": "python3",
   "language": "python",
   "name": "python3"
  }
 },
 "nbformat": 4,
 "nbformat_minor": 5
}
